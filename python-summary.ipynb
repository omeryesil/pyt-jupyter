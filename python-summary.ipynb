{
 "cells": [
  {
   "cell_type": "markdown",
   "metadata": {},
   "source": [
    "# Hello World \n",
    "\n",
    "Quick Python Tutorial and Tips\n",
    "\n",
    "This notebook contains my notes from Udemy Course \"Python for the Jupyter Notebook\". I highly recommend it for begineers: https://www.udemy.com/course/python-for-the-jupyter-notebook/\n",
    "\n",
    "\n",
    "## Shortcuts \n",
    "\n",
    "- H : Help, show all shortcuts\n",
    "\n",
    "- Shift + Enter : Run the current cell, select below (creates a new cell below if does not exists)\n",
    "- Ctrl + Enter : Run selected cells\n",
    "- Alt + Enter : Run the current cell, insert a new cell below\n",
    "- Ctrl + S : Save and checkpoint\n",
    "\n",
    "- Enter : Edit mode\n",
    "- A insert cell above\n",
    "- B insert cell below\n",
    "- X cut selected cells\n",
    "- C copy selected cells\n",
    "- V paste cells below\n",
    "- Shift + V paste cells above\n",
    "\n",
    "\n",
    "## NOTE: \n",
    "\n",
    "### Mac vs Windows/Linux\n",
    "- Ctrl: command key ⌘\n",
    "- Shift: Shift ⇧\n",
    "- Alt: option ⌥\n",
    " \n"
   ]
  },
  {
   "cell_type": "code",
   "execution_count": 31,
   "metadata": {
    "scrolled": true
   },
   "outputs": [
    {
     "name": "stdout",
     "output_type": "stream",
     "text": [
      "Hello World\n"
     ]
    }
   ],
   "source": [
    "print(\"Hello World\")"
   ]
  },
  {
   "cell_type": "code",
   "execution_count": 32,
   "metadata": {},
   "outputs": [
    {
     "name": "stdout",
     "output_type": "stream",
     "text": [
      "\n",
      "Here is a list of the Python keywords.  Enter any keyword to get more help.\n",
      "\n",
      "False               class               from                or\n",
      "None                continue            global              pass\n",
      "True                def                 if                  raise\n",
      "and                 del                 import              return\n",
      "as                  elif                in                  try\n",
      "assert              else                is                  while\n",
      "async               except              lambda              with\n",
      "await               finally             nonlocal            yield\n",
      "break               for                 not                 \n",
      "\n"
     ]
    }
   ],
   "source": [
    "'''\n",
    "Get list of the reserved words\n",
    "'''\n",
    "help(\"keywords\")"
   ]
  },
  {
   "cell_type": "markdown",
   "metadata": {},
   "source": [
    "## Variables \n",
    "\n",
    "Python is dynamic typed language; a variable can start with integer, and later on can be a string.\n"
   ]
  },
  {
   "cell_type": "code",
   "execution_count": 33,
   "metadata": {},
   "outputs": [
    {
     "name": "stdout",
     "output_type": "stream",
     "text": [
      "1000000000000000000000000000000000000100\n"
     ]
    },
    {
     "data": {
      "text/plain": [
       "int"
      ]
     },
     "execution_count": 33,
     "metadata": {},
     "output_type": "execute_result"
    }
   ],
   "source": [
    "# INTEGER\n",
    "x = 100\n",
    "y = 1000000000000000000000000000000000000000 #limited with the memory\n",
    "print(x+y)\n",
    "type(x)"
   ]
  },
  {
   "cell_type": "code",
   "execution_count": 34,
   "metadata": {},
   "outputs": [
    {
     "name": "stdout",
     "output_type": "stream",
     "text": [
      "10.34\n",
      "3400000.0\n"
     ]
    },
    {
     "data": {
      "text/plain": [
       "float"
      ]
     },
     "execution_count": 34,
     "metadata": {},
     "output_type": "execute_result"
    }
   ],
   "source": [
    "# FlOAT\n",
    "x = 10.34\n",
    "y = 3.4e6\n",
    "print(x)\n",
    "print(y)\n",
    "type(x)"
   ]
  },
  {
   "cell_type": "code",
   "execution_count": 35,
   "metadata": {},
   "outputs": [
    {
     "name": "stdout",
     "output_type": "stream",
     "text": [
      "False\n"
     ]
    },
    {
     "data": {
      "text/plain": [
       "bool"
      ]
     },
     "execution_count": 35,
     "metadata": {},
     "output_type": "execute_result"
    }
   ],
   "source": [
    "# BOOLEAN\n",
    "x = False\n",
    "print(x)\n",
    "type(x)"
   ]
  },
  {
   "cell_type": "code",
   "execution_count": 36,
   "metadata": {},
   "outputs": [
    {
     "name": "stdout",
     "output_type": "stream",
     "text": [
      "Hi there - Hello there 2\n"
     ]
    },
    {
     "data": {
      "text/plain": [
       "str"
      ]
     },
     "execution_count": 36,
     "metadata": {},
     "output_type": "execute_result"
    }
   ],
   "source": [
    "# STRINGS\n",
    "x = \"Hi there\"\n",
    "y = 'Hello there 2'\n",
    "print(x + \" - \" + y)\n",
    "type(x)"
   ]
  },
  {
   "cell_type": "markdown",
   "metadata": {},
   "source": [
    "### Casting Variables"
   ]
  },
  {
   "cell_type": "code",
   "execution_count": 37,
   "metadata": {},
   "outputs": [
    {
     "name": "stdout",
     "output_type": "stream",
     "text": [
      "String: 1.5\n",
      "Float: 1.5\n",
      "Integer:1\n"
     ]
    }
   ],
   "source": [
    "# string\n",
    "x = \"1.5\"\n",
    "print(\"String: \" + str(x))\n",
    "\n",
    "# string \n",
    "y = float(x)\n",
    "print(\"Float: \" + str(y))\n",
    "\n",
    "# integer\n",
    "z = int(y)\n",
    "print(\"Integer:\" + str(z))\n"
   ]
  },
  {
   "cell_type": "markdown",
   "metadata": {},
   "source": [
    "## Working with Strings"
   ]
  },
  {
   "cell_type": "code",
   "execution_count": 38,
   "metadata": {},
   "outputs": [
    {
     "name": "stdout",
     "output_type": "stream",
     "text": [
      "h\n",
      "d\n",
      "d\n",
      "d\n"
     ]
    }
   ],
   "source": [
    "myString = \"hello world\"\n",
    "print(myString[0])\n",
    "\n",
    "# get the last character \n",
    "print(myString[10])\n",
    "# OR\n",
    "print(myString[-1])\n",
    "# OR \n",
    "print(myString[len(myString)-1])\n",
    "\n"
   ]
  },
  {
   "cell_type": "markdown",
   "metadata": {},
   "source": [
    "### Slice notation"
   ]
  },
  {
   "cell_type": "code",
   "execution_count": 39,
   "metadata": {},
   "outputs": [
    {
     "data": {
      "text/plain": [
       "'lo world'"
      ]
     },
     "execution_count": 39,
     "metadata": {},
     "output_type": "execute_result"
    }
   ],
   "source": [
    "# get after n\n",
    "myString[3:]"
   ]
  },
  {
   "cell_type": "code",
   "execution_count": 40,
   "metadata": {},
   "outputs": [
    {
     "data": {
      "text/plain": [
       "'hel'"
      ]
     },
     "execution_count": 40,
     "metadata": {},
     "output_type": "execute_result"
    }
   ],
   "source": [
    "# get before n\n",
    "myString[:3]"
   ]
  },
  {
   "cell_type": "code",
   "execution_count": 41,
   "metadata": {
    "scrolled": true
   },
   "outputs": [
    {
     "data": {
      "text/plain": [
       "'lo w'"
      ]
     },
     "execution_count": 41,
     "metadata": {},
     "output_type": "execute_result"
    }
   ],
   "source": [
    "# get between n and m\n",
    "myString[3:7]"
   ]
  },
  {
   "cell_type": "markdown",
   "metadata": {},
   "source": [
    "### Other String methods"
   ]
  },
  {
   "cell_type": "code",
   "execution_count": 42,
   "metadata": {},
   "outputs": [
    {
     "data": {
      "text/plain": [
       "False"
      ]
     },
     "execution_count": 42,
     "metadata": {},
     "output_type": "execute_result"
    }
   ],
   "source": [
    "# Find string in string\n",
    "\"Hello\" in myString"
   ]
  },
  {
   "cell_type": "code",
   "execution_count": 43,
   "metadata": {},
   "outputs": [
    {
     "data": {
      "text/plain": [
       "'HELLO WORLD'"
      ]
     },
     "execution_count": 43,
     "metadata": {},
     "output_type": "execute_result"
    }
   ],
   "source": [
    "# To uppper\n",
    "myString.upper()"
   ]
  },
  {
   "cell_type": "code",
   "execution_count": 44,
   "metadata": {},
   "outputs": [
    {
     "data": {
      "text/plain": [
       "'hello world'"
      ]
     },
     "execution_count": 44,
     "metadata": {},
     "output_type": "execute_result"
    }
   ],
   "source": [
    "# To lower\n",
    "myString.lower()"
   ]
  },
  {
   "cell_type": "code",
   "execution_count": 45,
   "metadata": {},
   "outputs": [
    {
     "data": {
      "text/plain": [
       "'Hello world'"
      ]
     },
     "execution_count": 45,
     "metadata": {},
     "output_type": "execute_result"
    }
   ],
   "source": [
    "# Capitalize\n",
    "myString.capitalize()"
   ]
  },
  {
   "cell_type": "code",
   "execution_count": 46,
   "metadata": {},
   "outputs": [
    {
     "data": {
      "text/plain": [
       "'Hello World'"
      ]
     },
     "execution_count": 46,
     "metadata": {},
     "output_type": "execute_result"
    }
   ],
   "source": [
    "# Title\n",
    "myString.title()"
   ]
  },
  {
   "cell_type": "code",
   "execution_count": 47,
   "metadata": {},
   "outputs": [
    {
     "data": {
      "text/plain": [
       "False"
      ]
     },
     "execution_count": 47,
     "metadata": {},
     "output_type": "execute_result"
    }
   ],
   "source": [
    "# Check if string is a number\n",
    "myString.isnumeric()\n"
   ]
  },
  {
   "cell_type": "code",
   "execution_count": 48,
   "metadata": {},
   "outputs": [
    {
     "data": {
      "text/plain": [
       "'0000hello world'"
      ]
     },
     "execution_count": 48,
     "metadata": {},
     "output_type": "execute_result"
    }
   ],
   "source": [
    "# Pad \n",
    "myString.zfill(15)"
   ]
  },
  {
   "cell_type": "markdown",
   "metadata": {},
   "source": [
    "### Format String"
   ]
  },
  {
   "cell_type": "code",
   "execution_count": 49,
   "metadata": {},
   "outputs": [
    {
     "name": "stdout",
     "output_type": "stream",
     "text": [
      "Hello Omer. You are using Python version 3.7.6 (default, Jan  8 2020, 19:59:22) \n",
      "[GCC 7.3.0]. Today is 2020-05-27\n"
     ]
    }
   ],
   "source": [
    "import sys\n",
    "from datetime import date\n",
    "\n",
    "name = \"Omer\"\n",
    "language = \"Python\"\n",
    "version = sys.version\n",
    "today = date.today()\n",
    "\n",
    "formattedStr = \"Hello {}. You are using {} version {}. Today is {}\".format(name, language,version, today)\n",
    "\n",
    "print(formattedStr)\n"
   ]
  },
  {
   "cell_type": "markdown",
   "metadata": {},
   "source": [
    "## User Inputs"
   ]
  },
  {
   "cell_type": "code",
   "execution_count": null,
   "metadata": {},
   "outputs": [],
   "source": [
    "name = input(\"Enter your name: \")"
   ]
  },
  {
   "cell_type": "markdown",
   "metadata": {},
   "source": [
    "## Decision Making"
   ]
  },
  {
   "cell_type": "code",
   "execution_count": null,
   "metadata": {},
   "outputs": [],
   "source": [
    "yesno = input(\"Are you sure you want to continue [yes/no]?\")\n",
    "if yesno.lower()==\"yes\":\n",
    "    print(\"Will continue\")\n",
    "elif yesno.lower()==\"no\":\n",
    "    print(\"Will not continue\")\n",
    "else:\n",
    "    print(\"Wrong entry\")    \n",
    "  \n"
   ]
  },
  {
   "cell_type": "code",
   "execution_count": null,
   "metadata": {},
   "outputs": [],
   "source": [
    "# not condition\n",
    "val = input (\"Enter a number less than 10: \")\n",
    "if not int(val) < 10:\n",
    "    print(\"{} is not less than 10\".format(val))\n",
    "else :\n",
    "    print(\"Thank you\")\n",
    "    \n",
    "    \n",
    "\n"
   ]
  },
  {
   "cell_type": "markdown",
   "metadata": {},
   "source": [
    "## Loops\n"
   ]
  },
  {
   "cell_type": "code",
   "execution_count": null,
   "metadata": {},
   "outputs": [],
   "source": [
    "# For loop\n",
    "for x in range(4):\n",
    "    print(\"hello\")   # 4 spaces before print.."
   ]
  },
  {
   "cell_type": "code",
   "execution_count": null,
   "metadata": {},
   "outputs": [],
   "source": [
    "myStr = \"ABCDEFG\"\n",
    "for c in myStr:\n",
    "    print(c)"
   ]
  },
  {
   "cell_type": "code",
   "execution_count": null,
   "metadata": {},
   "outputs": [],
   "source": [
    "# while loop\n",
    "x = 0 \n",
    "\n",
    "while x <= 10:\n",
    "    print(str(x))\n",
    "    x = x +1 \n",
    "    "
   ]
  },
  {
   "cell_type": "code",
   "execution_count": null,
   "metadata": {},
   "outputs": [],
   "source": [
    "while True: \n",
    "    entry=input(\"Enter x to exit.\")\n",
    "    if entry.lower()==\"x\":\n",
    "        break\n",
    "    "
   ]
  },
  {
   "cell_type": "markdown",
   "metadata": {},
   "source": [
    "## Collections : Lists"
   ]
  },
  {
   "cell_type": "code",
   "execution_count": null,
   "metadata": {},
   "outputs": [],
   "source": [
    "shoppingList = [\"Tesla Model S\",\"yoghurt\", \"egg\", \"margarine\", \"tomato\", \"stinky socks\", \"OLED Tv\", ]\n",
    "\n",
    "print(\"Number of items to buy is \" + str(len(shoppingList)))\n",
    "      \n",
    "print(\"option 1 ---------\")    \n",
    "for item in shoppingList:\n",
    "    if item.lower() == \"stinky socks\":\n",
    "        continue\n",
    "    print(item)\n",
    "    \n",
    "print(\"\\noption 2 ---------\")    \n",
    "for i, item in enumerate(shoppingList):\n",
    "    if item.lower() == \"stinky socks\":\n",
    "        continue\n",
    "    print(\"{}. item: {}\".format(i+1,item))\n",
    "    \n",
    "print(\"\\nRemove items\") \n",
    "shoppingList.remove(\"stinky socks\")    # remove  \n",
    "shoppingList.pop(0)                    # remove by using pop \n",
    "del shoppingList[len(shoppingList)-1]  # remove by using del\n",
    "\n",
    "print(\"\\nAdd new items\") \n",
    "shoppingList.append(\"milk\")      # add to the end\n",
    "shoppingList.insert(0, \"bread\")  # insert to index 0\n",
    "\n",
    "print(\"\\nAdd another list\") \n",
    "secondList = [\"rice\", \"sugar\", \"baking soda\"]\n",
    "shoppingList.extend(secondList)\n",
    "    \n",
    "print(\"\\nDid we forget the egg? \")    \n",
    "if \"egg\" in shoppingList: \n",
    "    print(\"egg is in the list\")\n",
    "    \n",
    "print(\"\\nSort ---------\")  \n",
    "shoppingList.sort()\n",
    "print(shoppingList)\n",
    "\n",
    "print(\"\\nReversed ---------\")  \n",
    "shoppingList.reverse()\n",
    "print(shoppingList)\n",
    "\n",
    "print(\"\\nClear the list\")\n",
    "shoppinhList.clear()\n",
    "print(len(shoppinhList)\n",
    "\n"
   ]
  },
  {
   "cell_type": "markdown",
   "metadata": {},
   "source": [
    "## Collections : Dictionaries\n",
    "\n",
    "- Collection of objects\n",
    "- It is unordered\n",
    "- It is changable\n",
    "- It is indexed using key and value pairs\n",
    "\n",
    "Syntax:\n",
    "```python\n",
    "variable = {\"Key\":\"Value\", \"Key\": \"Value\"}\n",
    "```"
   ]
  },
  {
   "cell_type": "code",
   "execution_count": null,
   "metadata": {},
   "outputs": [],
   "source": [
    "# Creating a dictionary\n",
    "car = { \"Make\": \"Nissan\", \"Model\": \"Altima\", \"Year\": \"2019\" }\n",
    "print(car)\n",
    "\n",
    "print(\"\\nAccessing to dictionary value ---------\") \n",
    "print(car[\"Make\"])\n",
    "print(car.get(\"Make\"))\n",
    "\n",
    "print(\"\\nGet the size ---------\") \n",
    "len(car)\n",
    "\n",
    "print(\"\\nChange the value ---------\") \n",
    "car[\"Model\"] = \"Maxima\"\n",
    "print(car[\"Model\"])\n",
    "\n",
    "\n",
    "print(\"\\nLoop through keys and values --------- 1\")  \n",
    "for prop in car:\n",
    "    print(\"{} : {}\".format(prop, car[prop]))\n",
    "\n",
    "print(\"\\nLoop through keys and values --------- 2\")  \n",
    "for key, value in car.items():\n",
    "    print(\"{} : {}\".format(key, value))\n",
    "\n",
    "print(\"\\nCheck if value exists --------- \")\n",
    "print(\"Make\" in car)  # Returns True\n",
    "print(\"Color\" in car) # Returns False\n",
    "\n",
    "print(\"\\nRemove kv --------- \")\n",
    "print(\"Year\" in car) # Returns True\n",
    "car.pop(\"Year\")\n",
    "print(\"Year\" in car) # Returns False\n",
    "\n",
    "print(\"\\nClear Dictionary --------- \")\n",
    "car.clear()\n",
    "len(car)\n",
    "   "
   ]
  },
  {
   "cell_type": "markdown",
   "metadata": {},
   "source": [
    "## Collections : Tuples\n",
    "\n",
    "- It is ordered\n",
    "- It is indexed\n",
    "- Allow Duplicates\n",
    "- It is immutable, not changable. You need to crate a new tuple to change\n",
    "- Smaller and Faster than a List"
   ]
  },
  {
   "cell_type": "code",
   "execution_count": 22,
   "metadata": {},
   "outputs": [
    {
     "name": "stdout",
     "output_type": "stream",
     "text": [
      "\n",
      " Create a Tuple --------- \n",
      "('Mon', 'Tue', 'Wed', 'Thu', 'Fri')\n",
      "\n",
      " Access items by index --------- \n",
      "Mon\n",
      "Fri\n",
      "Fri\n",
      "('Thu', 'Fri')\n",
      "('Mon', 'Tue', 'Wed')\n",
      "\n",
      " Check if item exists --------- \n",
      "True\n",
      "\n",
      " Look through items --------- \n",
      "Mon\n",
      "Tue\n",
      "Wed\n",
      "Thu\n",
      "Fri\n",
      "\n",
      " Sort items --------- \n",
      "['Fri', 'Mon', 'Thu', 'Tue', 'Wed']\n",
      "\n",
      " Changing tuple --------- \n",
      "('Mon', 'Tue', 'Wed', 'Thu', 'Fri', 'Sat', 'Sun')\n",
      "\n",
      " Removing item from tuple --------- \n",
      "('Mon', 'Tue', 'Wed', 'Thu', 'Fri')\n"
     ]
    }
   ],
   "source": [
    "print(\"\\n Create a Tuple --------- \")\n",
    "weekdays = (\"Mon\", \"Tue\", \"Wed\", \"Thu\", \"Fri\" ) # didn't add Sat and Sun to show changing\n",
    "print(weekdays)\n",
    "\n",
    "print(\"\\n Access items by index --------- \")\n",
    "print(weekdays[0]) # first\n",
    "print(weekdays[-1]) # last \n",
    "print(weekdays[len(weekdays)-1]) # Use len to ge the latest\n",
    "print(weekdays[3:]) # Print after the 3rd\n",
    "print(weekdays[:3]) # Print until 3\n",
    "\n",
    "print(\"\\n Check if item exists --------- \")\n",
    "print(\"Tue\" in weekdays)\n",
    "\n",
    "print(\"\\n Look through items --------- \")\n",
    "for day in weekdays:\n",
    "    print(day)\n",
    "\n",
    "print(\"\\n Sort items --------- \")\n",
    "sortedWeekdays = sorted(weekdays)\n",
    "print(sortedWeekdays)\n",
    "\n",
    "print(\"\\n Changing tuple --------- \")\n",
    "# we need to create a new tuple\n",
    "missingDays = (\"Sat\", \"Sun\")\n",
    "weekdays = weekdays + missingDays\n",
    "print(weekdays)\n",
    "\n",
    "print(\"\\n Removing item from tuple --------- \")\n",
    "# convert it to a list\n",
    "tmp_weekdays = list(weekdays)\n",
    "tmp_weekdays.remove(\"Sun\")\n",
    "tmp_weekdays.remove(\"Sat\")\n",
    "# convert back to tuple\n",
    "weekdays = tuple(tmp_weekdays)\n",
    "print(weekdays)\n"
   ]
  },
  {
   "cell_type": "code",
   "execution_count": null,
   "metadata": {},
   "outputs": [],
   "source": []
  }
 ],
 "metadata": {
  "kernelspec": {
   "display_name": "Python 3",
   "language": "python",
   "name": "python3"
  },
  "language_info": {
   "codemirror_mode": {
    "name": "ipython",
    "version": 3
   },
   "file_extension": ".py",
   "mimetype": "text/x-python",
   "name": "python",
   "nbconvert_exporter": "python",
   "pygments_lexer": "ipython3",
   "version": "3.7.6"
  }
 },
 "nbformat": 4,
 "nbformat_minor": 4
}

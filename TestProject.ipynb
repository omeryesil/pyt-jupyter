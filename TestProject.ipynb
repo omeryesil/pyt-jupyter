{
 "cells": [
  {
   "cell_type": "markdown",
   "metadata": {},
   "source": [
    "# Hello World \n",
    "\n",
    "This is a test jupyter notebook\n",
    "\n",
    "## Shortcuts \n",
    "\n",
    "- H : Help, show all shortcuts\n",
    "\n",
    "- Shift + Enter : Run the current cell, select below (creates a new cell below if does not exists)\n",
    "- Ctrl + Enter : Run selected cells\n",
    "- Alt + Enter : Run the current cell, insert a new cell below\n",
    "- Ctrl + S : Save and checkpoint\n",
    "\n",
    "- Enter : Edit mode\n",
    "- A insert cell above\n",
    "- B insert cell below\n",
    "- X cut selected cells\n",
    "- C copy selected cells\n",
    "- V paste cells below\n",
    "- Shift + V paste cells above\n",
    "\n",
    "\n",
    "## NOTE: \n",
    "\n",
    "### Mac vs Windows/Linux\n",
    "- Ctrl: command key ⌘\n",
    "- Shift: Shift ⇧\n",
    "- Alt: option ⌥\n",
    "\n"
   ]
  },
  {
   "cell_type": "code",
   "execution_count": 10,
   "metadata": {
    "scrolled": true
   },
   "outputs": [
    {
     "name": "stdout",
     "output_type": "stream",
     "text": [
      "Hello World 2\n"
     ]
    }
   ],
   "source": [
    "print(\"Hello World 2\") # Shift + Enter to execute"
   ]
  },
  {
   "cell_type": "code",
   "execution_count": null,
   "metadata": {},
   "outputs": [],
   "source": []
  }
 ],
 "metadata": {
  "kernelspec": {
   "display_name": "Python 3",
   "language": "python",
   "name": "python3"
  },
  "language_info": {
   "codemirror_mode": {
    "name": "ipython",
    "version": 3
   },
   "file_extension": ".py",
   "mimetype": "text/x-python",
   "name": "python",
   "nbconvert_exporter": "python",
   "pygments_lexer": "ipython3",
   "version": "3.7.6"
  }
 },
 "nbformat": 4,
 "nbformat_minor": 4
}

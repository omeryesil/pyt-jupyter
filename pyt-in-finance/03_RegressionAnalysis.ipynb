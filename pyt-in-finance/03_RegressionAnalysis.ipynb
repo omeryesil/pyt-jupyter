{
 "cells": [
  {
   "cell_type": "markdown",
   "metadata": {},
   "source": [
    "# Regression Analysis\n",
    "\n",
    "Regression is a statistical method used in finance, investing, and other disciplines that attempts to determine the strength and character of the relationship between one dependent variable (usually denoted by Y) and a series of other variables (known as independent variables).\n",
    "\n",
    "Regression helps investment and financial managers to value assets and understand the relationships between variables, such as commodity prices and the stocks of businesses dealing in those commodities.\n",
    "\n",
    "(Ref: https://www.investopedia.com/terms/r/regression.asp#:~:text=What%20Is%20Regression%3F,(known%20as%20independent%20variables). )\n",
    "\n",
    "<b>Example:</b>\n",
    "- House prices: Larger the house Higher the price \n",
    "  - Size  : Explanatory variable (x)\n",
    "  - Price : Dependant variable (y)\n",
    "  - Basically if we know the size of the house, we can expect the price of the house \n",
    "  \n",
    "<b>Regression Types</b>\n",
    "- Simple Regression : One variable (linear equation)\n",
    "$$\n",
    "y = \\alpha + \\beta x\n",
    "$$\n",
    "  - y : dependent\n",
    "  - x : explanatory (independent)  \n",
    "\n",
    "2. Multivariate regression: More than one variable\n",
    "\n",
    "\n",
    "  "
   ]
  },
  {
   "cell_type": "code",
   "execution_count": null,
   "metadata": {},
   "outputs": [],
   "source": [
    "import numpy as np\n",
    "import pandas as pd\n",
    "\n",
    "from scipy import stats\n",
    "from statsmodels.api as sm\n",
    "\n",
    "import matplotlib.pyplot as plt\n",
    "\n",
    "data = pd.read_excel \n",
    "\n"
   ]
  }
 ],
 "metadata": {
  "kernelspec": {
   "display_name": "Python 3",
   "language": "python",
   "name": "python3"
  },
  "language_info": {
   "codemirror_mode": {
    "name": "ipython",
    "version": 3
   },
   "file_extension": ".py",
   "mimetype": "text/x-python",
   "name": "python",
   "nbconvert_exporter": "python",
   "pygments_lexer": "ipython3",
   "version": "3.7.6"
  }
 },
 "nbformat": 4,
 "nbformat_minor": 4
}

{
 "cells": [
  {
   "cell_type": "markdown",
   "metadata": {},
   "source": [
    "# 03 Markowitz Portfolio Optimization\n",
    "\n",
    "- 1952, Harry Markowitz published a papper\n",
    "  - Summary : You should not invest all in the same asset type\n",
    "  - Investors interested in the highest return\n",
    "  - Investment in multiple securities should be studied as portfolio\n",
    "  - Calculating efficient frontier of group of portfolios \n",
    "  \n"
   ]
  },
  {
   "cell_type": "code",
   "execution_count": 15,
   "metadata": {},
   "outputs": [],
   "source": [
    "# CALCULATE Portfolio Efficientcy\n",
    "\n",
    "import numpy as np\n",
    "import pandas as pd\n",
    "from pandas_datareader import data as wb\n",
    "import matplotlib.pyplot as plt\n",
    "\n",
    "# magic function\n",
    "# specific for jupyter notebook\n",
    "# Facilitates plotting matplotlib graphs just below code cells and \n",
    "# storing them in the notebook document \n",
    "%matplotlib inline\n"
   ]
  },
  {
   "cell_type": "code",
   "execution_count": 9,
   "metadata": {},
   "outputs": [
    {
     "data": {
      "text/html": [
       "<div>\n",
       "<style scoped>\n",
       "    .dataframe tbody tr th:only-of-type {\n",
       "        vertical-align: middle;\n",
       "    }\n",
       "\n",
       "    .dataframe tbody tr th {\n",
       "        vertical-align: top;\n",
       "    }\n",
       "\n",
       "    .dataframe thead th {\n",
       "        text-align: right;\n",
       "    }\n",
       "</style>\n",
       "<table border=\"1\" class=\"dataframe\">\n",
       "  <thead>\n",
       "    <tr style=\"text-align: right;\">\n",
       "      <th></th>\n",
       "      <th>MSFT</th>\n",
       "      <th>^GSPC</th>\n",
       "    </tr>\n",
       "    <tr>\n",
       "      <th>Date</th>\n",
       "      <th></th>\n",
       "      <th></th>\n",
       "    </tr>\n",
       "  </thead>\n",
       "  <tbody>\n",
       "    <tr>\n",
       "      <th>2020-07-28</th>\n",
       "      <td>202.020004</td>\n",
       "      <td>3218.439941</td>\n",
       "    </tr>\n",
       "    <tr>\n",
       "      <th>2020-07-29</th>\n",
       "      <td>204.059998</td>\n",
       "      <td>3258.439941</td>\n",
       "    </tr>\n",
       "    <tr>\n",
       "      <th>2020-07-30</th>\n",
       "      <td>203.899994</td>\n",
       "      <td>3246.219971</td>\n",
       "    </tr>\n",
       "    <tr>\n",
       "      <th>2020-07-31</th>\n",
       "      <td>205.009995</td>\n",
       "      <td>3271.120117</td>\n",
       "    </tr>\n",
       "    <tr>\n",
       "      <th>2020-08-03</th>\n",
       "      <td>216.539993</td>\n",
       "      <td>3294.610107</td>\n",
       "    </tr>\n",
       "  </tbody>\n",
       "</table>\n",
       "</div>"
      ],
      "text/plain": [
       "                  MSFT        ^GSPC\n",
       "Date                               \n",
       "2020-07-28  202.020004  3218.439941\n",
       "2020-07-29  204.059998  3258.439941\n",
       "2020-07-30  203.899994  3246.219971\n",
       "2020-07-31  205.009995  3271.120117\n",
       "2020-08-03  216.539993  3294.610107"
      ]
     },
     "execution_count": 9,
     "metadata": {},
     "output_type": "execute_result"
    }
   ],
   "source": [
    "assets = ['MSFT', '^GSPC']  # Microsoft with S&P 500\n",
    "pf_data = pd.DataFrame()\n",
    "\n",
    "for a in assets:\n",
    "    pf_data[a] = wb.DataReader(a, data_source='yahoo', start='2015-01-01')['Adj Close']\n",
    "\n",
    "pf_data.tail()"
   ]
  },
  {
   "cell_type": "code",
   "execution_count": 10,
   "metadata": {},
   "outputs": [
    {
     "data": {
      "text/plain": [
       "<matplotlib.axes._subplots.AxesSubplot at 0x1cba62bb3c8>"
      ]
     },
     "execution_count": 10,
     "metadata": {},
     "output_type": "execute_result"
    },
    {
     "data": {
      "image/png": "[encoded data removed]",
      "text/plain": [
       "<Figure size 720x360 with 1 Axes>"
      ]
     },
     "metadata": {
      "needs_background": "light"
     },
     "output_type": "display_data"
    }
   ],
   "source": [
    "(pf_data / pf_data.iloc[0] * 100).plot(figsize=(10,5))"
   ]
  },
  {
   "cell_type": "code",
   "execution_count": 17,
   "metadata": {},
   "outputs": [
    {
     "name": "stdout",
     "output_type": "stream",
     "text": [
      "MSFT     0.292902\n",
      "^GSPC    0.083711\n",
      "dtype: float64\n",
      "           MSFT     ^GSPC\n",
      "MSFT   0.075988  0.042106\n",
      "^GSPC  0.042106  0.035300\n",
      "           MSFT     ^GSPC\n",
      "MSFT   1.000000  0.812995\n",
      "^GSPC  0.812995  1.000000\n"
     ]
    }
   ],
   "source": [
    "log_returns = np.log(pf_data / pf_data.shift(1))\n",
    "\n",
    "print(log_returns.mean()* 250) # yearly mean\n",
    "print(log_returns.cov() * 250)\n",
    "print(log_returns.corr())\n"
   ]
  },
  {
   "cell_type": "code",
   "execution_count": 24,
   "metadata": {},
   "outputs": [
    {
     "data": {
      "text/plain": [
       "array([0.25485923, 0.74514077])"
      ]
     },
     "execution_count": 24,
     "metadata": {},
     "output_type": "execute_result"
    }
   ],
   "source": [
    "num_assets = len(assets)\n",
    "weights = np.random.random(num_assets)  # create random weights - will sum up to 1\n",
    "weights /= np.sum(weights)   # remember, here is the trick : w = w / sum(w)\n",
    "weights"
   ]
  },
  {
   "cell_type": "code",
   "execution_count": 25,
   "metadata": {},
   "outputs": [
    {
     "data": {
      "text/plain": [
       "True"
      ]
     },
     "execution_count": 25,
     "metadata": {},
     "output_type": "execute_result"
    }
   ],
   "source": [
    "weights[0] + weights[1] == 1   "
   ]
  },
  {
   "cell_type": "markdown",
   "metadata": {},
   "source": [
    "Expected Portfolio return:"
   ]
  },
  {
   "cell_type": "code",
   "execution_count": 26,
   "metadata": {},
   "outputs": [
    {
     "data": {
      "text/plain": [
       "0.13702532914135548"
      ]
     },
     "execution_count": 26,
     "metadata": {},
     "output_type": "execute_result"
    }
   ],
   "source": [
    "np.sum(weights * log_returns.mean()) * 250"
   ]
  },
  {
   "cell_type": "markdown",
   "metadata": {},
   "source": [
    "Expected Portfolio Variance:"
   ]
  },
  {
   "cell_type": "code",
   "execution_count": 28,
   "metadata": {},
   "outputs": [
    {
     "data": {
      "text/plain": [
       "0.040527971298931625"
      ]
     },
     "execution_count": 28,
     "metadata": {},
     "output_type": "execute_result"
    }
   ],
   "source": [
    "np.dot(weights.T, np.dot(log_returns.cov() * 250, weights))"
   ]
  },
  {
   "cell_type": "markdown",
   "metadata": {},
   "source": [
    "Expected Portfolio Volatility:"
   ]
  },
  {
   "cell_type": "code",
   "execution_count": 29,
   "metadata": {},
   "outputs": [
    {
     "data": {
      "text/plain": [
       "0.20131560123083264"
      ]
     },
     "execution_count": 29,
     "metadata": {},
     "output_type": "execute_result"
    }
   ],
   "source": [
    "np.sqrt(np.dot(weights.T, np.dot(log_returns.cov() * 250, weights)))"
   ]
  },
  {
   "cell_type": "markdown",
   "metadata": {},
   "source": [
    "<b>NOTE:</b>\n",
    "- Here we are not considering 1000 different investments, instead, we are considering 1000 different combinations (weights in this case) of the same asset \n",
    "- The idea is the find the most efficient combination(x% MSFT, y% S&P500) for the asset (portfolio)"
   ]
  },
  {
   "cell_type": "code",
   "execution_count": 32,
   "metadata": {},
   "outputs": [
    {
     "data": {
      "text/plain": [
       "array([0.18840848, 0.26589298, 0.14954194, 0.1717686 , 0.17526118,\n",
       "       0.27969431, 0.21019331, 0.26169779, 0.19513129, 0.2075112 ,\n",
       "       0.24303805, 0.13120788, 0.20414485, 0.17115025, 0.24667743,\n",
       "       0.27409492, 0.18112836, 0.24357799, 0.13830353, 0.18483266,\n",
       "       0.19328306, 0.16895727, 0.20293694, 0.17185437, 0.11217908,\n",
       "       0.16870291, 0.26098373, 0.2339585 , 0.25840917, 0.19675904,\n",
       "       0.21814402, 0.17081749, 0.10595438, 0.15756451, 0.20037524,\n",
       "       0.22720633, 0.1630242 , 0.25227312, 0.20919292, 0.24536807,\n",
       "       0.28305762, 0.24875256, 0.15487609, 0.22873635, 0.16010803,\n",
       "       0.21474596, 0.22227839, 0.20726331, 0.18538907, 0.09510546,\n",
       "       0.28061574, 0.09563749, 0.18261532, 0.11633683, 0.19545709,\n",
       "       0.23821143, 0.18851611, 0.15076955, 0.23370473, 0.17356883,\n",
       "       0.19806465, 0.19737109, 0.21921856, 0.25418803, 0.09799947,\n",
       "       0.12514914, 0.18387312, 0.16492823, 0.26437918, 0.17731224,\n",
       "       0.1911491 , 0.11613903, 0.19999786, 0.15751681, 0.24154833,\n",
       "       0.11782854, 0.13206366, 0.22426097, 0.17158148, 0.14242768,\n",
       "       0.12927408, 0.23626899, 0.16784888, 0.19222137, 0.23743347,\n",
       "       0.21891518, 0.20837337, 0.1782539 , 0.19990928, 0.23902132,\n",
       "       0.18477432, 0.22411151, 0.26294723, 0.24040991, 0.18505455,\n",
       "       0.25018375, 0.25686118, 0.22928836, 0.15934794, 0.23010256,\n",
       "       0.17542798, 0.11730313, 0.27133465, 0.23196299, 0.16667331,\n",
       "       0.19086809, 0.21367581, 0.19470553, 0.19917556, 0.18871953,\n",
       "       0.11203903, 0.1195951 , 0.1018003 , 0.13316012, 0.24562806,\n",
       "       0.20839727, 0.24326729, 0.2665297 , 0.19180949, 0.15846569,\n",
       "       0.23155669, 0.14410081, 0.22391039, 0.28903219, 0.12819809,\n",
       "       0.18994231, 0.20096935, 0.21272268, 0.14037242, 0.2257625 ,\n",
       "       0.27137012, 0.18556622, 0.11927904, 0.20868208, 0.25040459,\n",
       "       0.28194437, 0.12008733, 0.19579256, 0.21971852, 0.14660211,\n",
       "       0.15041423, 0.20170124, 0.20673531, 0.17193525, 0.16729669,\n",
       "       0.10351948, 0.10236736, 0.1288987 , 0.17880055, 0.20161058,\n",
       "       0.28417572, 0.17182152, 0.24340051, 0.22750006, 0.11823565,\n",
       "       0.2366785 , 0.18053553, 0.20332701, 0.25471887, 0.26968197,\n",
       "       0.21161562, 0.22574723, 0.09321002, 0.14583777, 0.18988768,\n",
       "       0.11699647, 0.25206405, 0.1358355 , 0.19707341, 0.16095551,\n",
       "       0.13779218, 0.14716916, 0.14040841, 0.23232992, 0.26752008,\n",
       "       0.24423324, 0.14129534, 0.13034566, 0.19205774, 0.16028673,\n",
       "       0.20044226, 0.16758486, 0.17457468, 0.16746098, 0.20989586,\n",
       "       0.23383699, 0.18008512, 0.28847973, 0.14489984, 0.2013893 ,\n",
       "       0.21785305, 0.16300459, 0.2284377 , 0.15615799, 0.2146873 ,\n",
       "       0.24031118, 0.23604224, 0.19275761, 0.12027911, 0.2488155 ,\n",
       "       0.08898846, 0.1989458 , 0.15048225, 0.13992482, 0.14129963,\n",
       "       0.17622483, 0.27272617, 0.21530336, 0.29089739, 0.19967432,\n",
       "       0.2184488 , 0.19075512, 0.16540446, 0.22215839, 0.13450639,\n",
       "       0.21988115, 0.25630856, 0.1710198 , 0.2580156 , 0.18758462,\n",
       "       0.25300606, 0.24456017, 0.21426353, 0.17781944, 0.15021672,\n",
       "       0.18570408, 0.22215464, 0.20614755, 0.23376353, 0.264588  ,\n",
       "       0.15632789, 0.26482607, 0.14139306, 0.24373747, 0.11917719,\n",
       "       0.2658007 , 0.24668587, 0.17823949, 0.16884794, 0.25484581,\n",
       "       0.18591301, 0.09152533, 0.10366284, 0.13534733, 0.21195193,\n",
       "       0.15333364, 0.1578163 , 0.22686754, 0.19474071, 0.2610327 ,\n",
       "       0.18739815, 0.16164263, 0.13478267, 0.09588212, 0.17876825,\n",
       "       0.25735094, 0.27098058, 0.17793529, 0.10807827, 0.19327063,\n",
       "       0.19003209, 0.20819597, 0.19251494, 0.09230083, 0.28971648,\n",
       "       0.21353441, 0.26923772, 0.17527182, 0.12503088, 0.20672214,\n",
       "       0.26381021, 0.12243248, 0.13201725, 0.15001595, 0.2378114 ,\n",
       "       0.12317254, 0.17737817, 0.25708519, 0.10225894, 0.15467754,\n",
       "       0.22882621, 0.10473246, 0.13901254, 0.27143407, 0.09905193,\n",
       "       0.19323665, 0.23182922, 0.17679944, 0.13816935, 0.1958837 ,\n",
       "       0.1322927 , 0.10212293, 0.14592736, 0.21811443, 0.21709506,\n",
       "       0.24314751, 0.23861883, 0.20545275, 0.12190021, 0.24167511,\n",
       "       0.22317521, 0.15921009, 0.09915964, 0.16855832, 0.16386507,\n",
       "       0.13655732, 0.21723672, 0.20445616, 0.17281402, 0.09687589,\n",
       "       0.22824793, 0.22285201, 0.10220983, 0.11716593, 0.08806802,\n",
       "       0.15266209, 0.24155329, 0.25647466, 0.23768714, 0.10539176,\n",
       "       0.17939521, 0.25668533, 0.1094446 , 0.24468477, 0.12875221,\n",
       "       0.17885233, 0.16352187, 0.18625886, 0.20070245, 0.21158253,\n",
       "       0.13262854, 0.16416954, 0.19084919, 0.20121481, 0.29196283,\n",
       "       0.2584006 , 0.2373225 , 0.20124534, 0.20359263, 0.21840162,\n",
       "       0.17507537, 0.18640647, 0.24229936, 0.19159066, 0.20565348,\n",
       "       0.12068046, 0.22547406, 0.2226081 , 0.1932562 , 0.27105261,\n",
       "       0.23509765, 0.27323702, 0.20160418, 0.20191851, 0.17549014,\n",
       "       0.15869874, 0.26205677, 0.17819764, 0.21279461, 0.19730515,\n",
       "       0.19318764, 0.18524325, 0.22625202, 0.27547015, 0.24874253,\n",
       "       0.11705933, 0.14802607, 0.10398105, 0.17841386, 0.17356266,\n",
       "       0.19961102, 0.20905356, 0.1415155 , 0.25719987, 0.11362904,\n",
       "       0.17873771, 0.18401894, 0.2171616 , 0.10655095, 0.22025631,\n",
       "       0.19787923, 0.19102046, 0.18098123, 0.25959897, 0.24078828,\n",
       "       0.12259951, 0.2114412 , 0.15910221, 0.13782067, 0.18973233,\n",
       "       0.17625595, 0.16086993, 0.20664834, 0.16375516, 0.21264812,\n",
       "       0.16663575, 0.17828229, 0.28667189, 0.18868895, 0.24195224,\n",
       "       0.28150349, 0.24111628, 0.1302668 , 0.16715596, 0.19081002,\n",
       "       0.2404707 , 0.18790713, 0.13971693, 0.1584588 , 0.17879098,\n",
       "       0.13222491, 0.23980353, 0.14571972, 0.13590002, 0.18436558,\n",
       "       0.15965089, 0.26180428, 0.20714675, 0.12990068, 0.265595  ,\n",
       "       0.22467874, 0.21426189, 0.08891654, 0.16496148, 0.22977615,\n",
       "       0.13800994, 0.16708464, 0.2102405 , 0.15680402, 0.15548485,\n",
       "       0.26323251, 0.20677361, 0.15272703, 0.15527365, 0.1773491 ,\n",
       "       0.26376945, 0.19425614, 0.29217122, 0.21685553, 0.22634927,\n",
       "       0.22566135, 0.16901568, 0.1754897 , 0.19965396, 0.09079519,\n",
       "       0.24370536, 0.16973862, 0.2774418 , 0.17906799, 0.17252821,\n",
       "       0.27057442, 0.27032008, 0.12582038, 0.109627  , 0.14306015,\n",
       "       0.18410024, 0.26161101, 0.17643702, 0.12736314, 0.11965651,\n",
       "       0.24265023, 0.12869948, 0.1272378 , 0.20736152, 0.2243734 ,\n",
       "       0.19816634, 0.22018796, 0.17389778, 0.13092462, 0.13301179,\n",
       "       0.17554262, 0.1557249 , 0.23580593, 0.25802846, 0.24656325,\n",
       "       0.14236663, 0.1329783 , 0.22536806, 0.2008513 , 0.19749183,\n",
       "       0.2207353 , 0.14260987, 0.17318584, 0.12371701, 0.09441498,\n",
       "       0.26108392, 0.18354557, 0.17999354, 0.19927803, 0.16713905,\n",
       "       0.15866005, 0.20461284, 0.18671188, 0.19841231, 0.20779576,\n",
       "       0.23968963, 0.23714735, 0.21836513, 0.16373865, 0.19477274,\n",
       "       0.15814476, 0.13608746, 0.1928605 , 0.16680273, 0.19002395,\n",
       "       0.21148224, 0.20527338, 0.0966361 , 0.24770233, 0.21278245,\n",
       "       0.22456249, 0.21510129, 0.26961749, 0.22257038, 0.2252651 ,\n",
       "       0.13439395, 0.24162422, 0.20980867, 0.22902525, 0.19082999,\n",
       "       0.21109129, 0.23502899, 0.25346377, 0.211271  , 0.21360744,\n",
       "       0.25149713, 0.12967526, 0.17472059, 0.18090497, 0.24716441,\n",
       "       0.08392022, 0.14179093, 0.16761812, 0.18764161, 0.27042932,\n",
       "       0.20984443, 0.19014534, 0.2074045 , 0.21086292, 0.16260729,\n",
       "       0.11225819, 0.09753721, 0.18200436, 0.17444671, 0.11947189,\n",
       "       0.20354554, 0.08699987, 0.19401786, 0.09793408, 0.20774017,\n",
       "       0.19342384, 0.26223591, 0.1288798 , 0.11444629, 0.17403499,\n",
       "       0.19511523, 0.16390116, 0.23901584, 0.20397138, 0.2051083 ,\n",
       "       0.18964683, 0.19630675, 0.08980075, 0.19536255, 0.11337678,\n",
       "       0.16942817, 0.17901347, 0.14802468, 0.18289606, 0.23145807,\n",
       "       0.12344042, 0.15980749, 0.18663144, 0.12380394, 0.17513741,\n",
       "       0.22177312, 0.18880807, 0.28239898, 0.24055305, 0.18575355,\n",
       "       0.14551579, 0.20567945, 0.2586897 , 0.13365504, 0.18491947,\n",
       "       0.20383094, 0.13572001, 0.25017376, 0.25368503, 0.13768854,\n",
       "       0.12005188, 0.17242255, 0.27117562, 0.14807815, 0.19658152,\n",
       "       0.17553745, 0.17393372, 0.16376089, 0.15451911, 0.27830088,\n",
       "       0.21219781, 0.15273649, 0.22838711, 0.29173723, 0.08590185,\n",
       "       0.19879609, 0.18689199, 0.09992467, 0.23794812, 0.12519016,\n",
       "       0.17134904, 0.183128  , 0.20092432, 0.11512943, 0.21353342,\n",
       "       0.21488642, 0.15958116, 0.2474796 , 0.13251882, 0.14473763,\n",
       "       0.23218082, 0.22908291, 0.16390785, 0.23872567, 0.19834019,\n",
       "       0.28068827, 0.17407658, 0.18549386, 0.11231214, 0.22031881,\n",
       "       0.2003896 , 0.11157466, 0.2192931 , 0.24442246, 0.11959192,\n",
       "       0.2561729 , 0.19632612, 0.13580998, 0.19930975, 0.15185561,\n",
       "       0.25679669, 0.21659292, 0.20392803, 0.28506292, 0.18836922,\n",
       "       0.25771986, 0.19329932, 0.2497557 , 0.21089971, 0.12868369,\n",
       "       0.23823056, 0.11711554, 0.1234534 , 0.16190706, 0.20460783,\n",
       "       0.25660016, 0.15199548, 0.23456213, 0.11168356, 0.18089003,\n",
       "       0.14951285, 0.25819244, 0.14000861, 0.10491521, 0.23978181,\n",
       "       0.2440453 , 0.21880388, 0.28847968, 0.23081459, 0.1992034 ,\n",
       "       0.13709973, 0.21385137, 0.13558377, 0.22816424, 0.08824333,\n",
       "       0.1934897 , 0.22302796, 0.17621567, 0.15787544, 0.10588706,\n",
       "       0.2517366 , 0.22306199, 0.25199225, 0.19093785, 0.25774935,\n",
       "       0.23681419, 0.09588456, 0.2819692 , 0.08423014, 0.17009733,\n",
       "       0.12246148, 0.1644857 , 0.14924439, 0.13551385, 0.1705597 ,\n",
       "       0.20138121, 0.18335023, 0.16510531, 0.16784164, 0.20072823,\n",
       "       0.15873757, 0.19559911, 0.14324055, 0.2562285 , 0.22246057,\n",
       "       0.15657346, 0.21427836, 0.21162376, 0.16544754, 0.11665602,\n",
       "       0.27344043, 0.20715227, 0.25497803, 0.26546521, 0.22595714,\n",
       "       0.17930798, 0.22064265, 0.29247823, 0.08612564, 0.26208421,\n",
       "       0.15392389, 0.27268232, 0.27900989, 0.1312122 , 0.23911098,\n",
       "       0.15388029, 0.1485821 , 0.2078311 , 0.16396616, 0.16301764,\n",
       "       0.18929163, 0.20074316, 0.17059369, 0.19603788, 0.12498326,\n",
       "       0.14696565, 0.21049496, 0.24767488, 0.17120058, 0.20518223,\n",
       "       0.10470926, 0.20847426, 0.14637004, 0.21212524, 0.29260388,\n",
       "       0.15171937, 0.14157425, 0.25275313, 0.24634865, 0.10729954,\n",
       "       0.16778014, 0.14790794, 0.16768087, 0.24926523, 0.17840412,\n",
       "       0.11989376, 0.23016745, 0.13470634, 0.18791524, 0.22982797,\n",
       "       0.15520795, 0.17074028, 0.22088901, 0.16506968, 0.17454665,\n",
       "       0.18968916, 0.1675465 , 0.12698402, 0.10017881, 0.19078606,\n",
       "       0.18346898, 0.09486668, 0.21152841, 0.1545122 , 0.1768274 ,\n",
       "       0.17003627, 0.24550071, 0.27333278, 0.10999553, 0.28934263,\n",
       "       0.24583296, 0.11319543, 0.25693465, 0.12124243, 0.21910851,\n",
       "       0.23441423, 0.20147818, 0.18532159, 0.2382322 , 0.20193316,\n",
       "       0.22986407, 0.14450351, 0.23147579, 0.28731688, 0.19715427,\n",
       "       0.16376302, 0.22166333, 0.19802883, 0.0932706 , 0.15053679,\n",
       "       0.22685258, 0.25430224, 0.23506685, 0.18245414, 0.214405  ,\n",
       "       0.13524436, 0.1786321 , 0.2434876 , 0.14949636, 0.25560783,\n",
       "       0.19643295, 0.122268  , 0.20110755, 0.18527165, 0.14087674,\n",
       "       0.13602491, 0.20563272, 0.16794569, 0.19453652, 0.1811842 ,\n",
       "       0.20682162, 0.19706369, 0.15137158, 0.19843624, 0.27073859,\n",
       "       0.14458222, 0.19272333, 0.10849562, 0.13083299, 0.17273203,\n",
       "       0.26715628, 0.12143342, 0.19887711, 0.25649436, 0.22867907,\n",
       "       0.1269734 , 0.18903464, 0.26234973, 0.23929372, 0.22007956,\n",
       "       0.19915716, 0.21025079, 0.15500765, 0.23070686, 0.2034075 ,\n",
       "       0.15590149, 0.19442131, 0.22293776, 0.13860539, 0.24388498,\n",
       "       0.23001834, 0.15576981, 0.16915307, 0.16429141, 0.1697639 ,\n",
       "       0.1693942 , 0.20084501, 0.23432102, 0.11804452, 0.2467296 ,\n",
       "       0.1980135 , 0.15580489, 0.23513493, 0.1642336 , 0.08870814,\n",
       "       0.22070665, 0.25496366, 0.27040125, 0.24279753, 0.15168872,\n",
       "       0.08496013, 0.16337309, 0.1141719 , 0.09114981, 0.23891061,\n",
       "       0.11936811, 0.18649018, 0.10637391, 0.19193681, 0.20297899,\n",
       "       0.17708012, 0.17467243, 0.13276697, 0.1793262 , 0.12611983,\n",
       "       0.20912197, 0.14836298, 0.19699101, 0.19966167, 0.19444836,\n",
       "       0.18220844, 0.10728718, 0.2121885 , 0.14610131, 0.13082479,\n",
       "       0.22760573, 0.21985896, 0.20056994, 0.16349841, 0.21051463,\n",
       "       0.1947861 , 0.22277189, 0.27800224, 0.23353463, 0.18382357,\n",
       "       0.16101954, 0.16069691, 0.16318951, 0.16352074, 0.18302144,\n",
       "       0.25129157, 0.20879745, 0.12555729, 0.11562555, 0.12430134,\n",
       "       0.27742459, 0.09484321, 0.20961146, 0.24321907, 0.17089664,\n",
       "       0.16649165, 0.16217303, 0.10906636, 0.20429126, 0.13951187,\n",
       "       0.20436595, 0.16405138, 0.15909717, 0.27772983, 0.2886515 ,\n",
       "       0.16755219, 0.15385886, 0.19866568, 0.14530486, 0.20907488,\n",
       "       0.10723082, 0.23244058, 0.19165966, 0.16823999, 0.18286098,\n",
       "       0.26075681, 0.12444414, 0.17399005, 0.2896444 , 0.21190425,\n",
       "       0.20515158, 0.26456916, 0.17450351, 0.2482191 , 0.19876883,\n",
       "       0.26082189, 0.15106981, 0.2912341 , 0.21094432, 0.26267212,\n",
       "       0.16717229, 0.18982837, 0.2139551 , 0.10783675, 0.19456985,\n",
       "       0.25417914, 0.17762756, 0.14284123, 0.29241401, 0.22504812,\n",
       "       0.12712861, 0.19849742, 0.24029721, 0.21046493, 0.25340703,\n",
       "       0.08698389, 0.17074774, 0.23704163, 0.09604958, 0.20611096,\n",
       "       0.20428377, 0.15968857, 0.28724074, 0.14870352, 0.09147422,\n",
       "       0.16527998, 0.18693652, 0.21503927, 0.1028802 , 0.26548095,\n",
       "       0.17673209, 0.10059098, 0.22530466, 0.24714778, 0.22759393,\n",
       "       0.26013789, 0.14589863, 0.27050606, 0.18688389, 0.1744531 ,\n",
       "       0.17403451, 0.20752888, 0.199141  , 0.20028655, 0.15510994])"
      ]
     },
     "execution_count": 32,
     "metadata": {},
     "output_type": "execute_result"
    }
   ],
   "source": [
    "pfolio_returns = []\n",
    "pfolio_volatilities = []\n",
    "\n",
    "for x in range(1000):\n",
    "    weights = np.random.random(num_assets)  # create random weights - will sum up to 1\n",
    "    weights /= np.sum(weights)\n",
    "    pfolio_returns.append(np.sum(weights * log_returns.mean()) * 250)\n",
    "    pfolio_volatilities.append(np.sqrt(np.dot(weights.T, np.dot(log_returns.cov() * 250, weights))))\n",
    "\n",
    "# \n",
    "pfolio_returns = np.array(pfolio_returns) # convert to an array\n",
    "pfolio_volatilities = np.array(pfolio_volatilities)\n",
    "    \n",
    "pfolio_returns\n",
    "    "
   ]
  },
  {
   "cell_type": "code",
   "execution_count": null,
   "metadata": {},
   "outputs": [],
   "source": []
  }
 ],
 "metadata": {
  "kernelspec": {
   "display_name": "Python 3",
   "language": "python",
   "name": "python3"
  },
  "language_info": {
   "codemirror_mode": {
    "name": "ipython",
    "version": 3
   },
   "file_extension": ".py",
   "mimetype": "text/x-python",
   "name": "python",
   "nbconvert_exporter": "python",
   "pygments_lexer": "ipython3",
   "version": "3.7.6"
  }
 },
 "nbformat": 4,
 "nbformat_minor": 4
}

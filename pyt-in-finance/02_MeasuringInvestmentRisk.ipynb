{
 "cells": [
  {
   "cell_type": "markdown",
   "metadata": {},
   "source": [
    "# 02 - Measuring Investment Risk \n",
    "\n",
    "<b>Quantifying risk :</b>\n",
    "These can help:\n",
    "\n",
    "  \n",
    "- Standard deviation\n",
    "  - Standard deviation is a measure of how much an investment's returns can vary from its average return. It is a measure of volatility and in turn, risk (ref: https://investinganswers.com/dictionary/s/standard-deviation) \n",
    "  - S = [1/n *  (ri - rave)2]½\n",
    "    - where:\n",
    "    - ri = actual rate of return\n",
    "    - rave = average rate of return\n",
    "    - n = number of time periods\n",
    "\n",
    "- Variance : \n",
    "  - High variance in a stock is associated with higher risk, along with a higher return. Low variance is associated with lower risk and a lower return. High variance stocks tend to be good for aggressive investors who are less risk-averse, while low variance stocks tend to be good for conservative investors who have less risk tolerance (ref: https://www.investopedia.com/ask/answers/041415/variance-good-or-bad-stock-investors.asp) \n",
    "  - Variance = $S^2$"
   ]
  },
  {
   "cell_type": "markdown",
   "metadata": {},
   "source": [
    "## Calculating Risk of a Security"
   ]
  },
  {
   "cell_type": "code",
   "execution_count": 9,
   "metadata": {},
   "outputs": [],
   "source": [
    "import numpy as np\n",
    "import pandas as pd\n",
    "from pandas_datareader import data as wb\n",
    "import matplotlib.pyplot as plt\n",
    "\n",
    "startDate = '2015-01-01'\n",
    "endDate = '2019-12-31'\n",
    "\n",
    "tickers = ['MSFT', 'IBM']\n",
    "securityData = pd.DataFrame()\n",
    "\n",
    "for t in tickers:\n",
    "    securityData[t] = wb.DataReader(t, data_source='yahoo', start=startDate, end=endDate)['Adj Close']\n"
   ]
  },
  {
   "cell_type": "code",
   "execution_count": 4,
   "metadata": {},
   "outputs": [
    {
     "data": {
      "text/html": [
       "<div>\n",
       "<style scoped>\n",
       "    .dataframe tbody tr th:only-of-type {\n",
       "        vertical-align: middle;\n",
       "    }\n",
       "\n",
       "    .dataframe tbody tr th {\n",
       "        vertical-align: top;\n",
       "    }\n",
       "\n",
       "    .dataframe thead th {\n",
       "        text-align: right;\n",
       "    }\n",
       "</style>\n",
       "<table border=\"1\" class=\"dataframe\">\n",
       "  <thead>\n",
       "    <tr style=\"text-align: right;\">\n",
       "      <th></th>\n",
       "      <th>MSFT</th>\n",
       "      <th>IBM</th>\n",
       "    </tr>\n",
       "    <tr>\n",
       "      <th>Date</th>\n",
       "      <th></th>\n",
       "      <th></th>\n",
       "    </tr>\n",
       "  </thead>\n",
       "  <tbody>\n",
       "    <tr>\n",
       "      <th>2020-07-22</th>\n",
       "      <td>211.750000</td>\n",
       "      <td>128.669998</td>\n",
       "    </tr>\n",
       "    <tr>\n",
       "      <th>2020-07-23</th>\n",
       "      <td>202.539993</td>\n",
       "      <td>127.330002</td>\n",
       "    </tr>\n",
       "    <tr>\n",
       "      <th>2020-07-24</th>\n",
       "      <td>201.300003</td>\n",
       "      <td>125.790001</td>\n",
       "    </tr>\n",
       "    <tr>\n",
       "      <th>2020-07-27</th>\n",
       "      <td>203.850006</td>\n",
       "      <td>126.209999</td>\n",
       "    </tr>\n",
       "    <tr>\n",
       "      <th>2020-07-28</th>\n",
       "      <td>202.020004</td>\n",
       "      <td>124.470001</td>\n",
       "    </tr>\n",
       "  </tbody>\n",
       "</table>\n",
       "</div>"
      ],
      "text/plain": [
       "                  MSFT         IBM\n",
       "Date                              \n",
       "2020-07-22  211.750000  128.669998\n",
       "2020-07-23  202.539993  127.330002\n",
       "2020-07-24  201.300003  125.790001\n",
       "2020-07-27  203.850006  126.209999\n",
       "2020-07-28  202.020004  124.470001"
      ]
     },
     "execution_count": 4,
     "metadata": {},
     "output_type": "execute_result"
    }
   ],
   "source": [
    "securityData.tail()"
   ]
  },
  {
   "cell_type": "code",
   "execution_count": 11,
   "metadata": {},
   "outputs": [
    {
     "data": {
      "text/html": [
       "<div>\n",
       "<style scoped>\n",
       "    .dataframe tbody tr th:only-of-type {\n",
       "        vertical-align: middle;\n",
       "    }\n",
       "\n",
       "    .dataframe tbody tr th {\n",
       "        vertical-align: top;\n",
       "    }\n",
       "\n",
       "    .dataframe thead th {\n",
       "        text-align: right;\n",
       "    }\n",
       "</style>\n",
       "<table border=\"1\" class=\"dataframe\">\n",
       "  <thead>\n",
       "    <tr style=\"text-align: right;\">\n",
       "      <th></th>\n",
       "      <th>MSFT</th>\n",
       "      <th>IBM</th>\n",
       "    </tr>\n",
       "    <tr>\n",
       "      <th>Date</th>\n",
       "      <th></th>\n",
       "      <th></th>\n",
       "    </tr>\n",
       "  </thead>\n",
       "  <tbody>\n",
       "    <tr>\n",
       "      <th>2015-01-02</th>\n",
       "      <td>NaN</td>\n",
       "      <td>NaN</td>\n",
       "    </tr>\n",
       "    <tr>\n",
       "      <th>2015-01-05</th>\n",
       "      <td>-0.009238</td>\n",
       "      <td>-0.015860</td>\n",
       "    </tr>\n",
       "    <tr>\n",
       "      <th>2015-01-06</th>\n",
       "      <td>-0.014786</td>\n",
       "      <td>-0.021802</td>\n",
       "    </tr>\n",
       "    <tr>\n",
       "      <th>2015-01-07</th>\n",
       "      <td>0.012625</td>\n",
       "      <td>-0.006557</td>\n",
       "    </tr>\n",
       "    <tr>\n",
       "      <th>2015-01-08</th>\n",
       "      <td>0.028994</td>\n",
       "      <td>0.021502</td>\n",
       "    </tr>\n",
       "    <tr>\n",
       "      <th>...</th>\n",
       "      <td>...</td>\n",
       "      <td>...</td>\n",
       "    </tr>\n",
       "    <tr>\n",
       "      <th>2019-12-24</th>\n",
       "      <td>-0.000191</td>\n",
       "      <td>-0.004214</td>\n",
       "    </tr>\n",
       "    <tr>\n",
       "      <th>2019-12-26</th>\n",
       "      <td>0.008163</td>\n",
       "      <td>-0.000519</td>\n",
       "    </tr>\n",
       "    <tr>\n",
       "      <th>2019-12-27</th>\n",
       "      <td>0.001826</td>\n",
       "      <td>0.002665</td>\n",
       "    </tr>\n",
       "    <tr>\n",
       "      <th>2019-12-30</th>\n",
       "      <td>-0.008656</td>\n",
       "      <td>-0.018353</td>\n",
       "    </tr>\n",
       "    <tr>\n",
       "      <th>2019-12-31</th>\n",
       "      <td>0.000698</td>\n",
       "      <td>0.009219</td>\n",
       "    </tr>\n",
       "  </tbody>\n",
       "</table>\n",
       "<p>1258 rows × 2 columns</p>\n",
       "</div>"
      ],
      "text/plain": [
       "                MSFT       IBM\n",
       "Date                          \n",
       "2015-01-02       NaN       NaN\n",
       "2015-01-05 -0.009238 -0.015860\n",
       "2015-01-06 -0.014786 -0.021802\n",
       "2015-01-07  0.012625 -0.006557\n",
       "2015-01-08  0.028994  0.021502\n",
       "...              ...       ...\n",
       "2019-12-24 -0.000191 -0.004214\n",
       "2019-12-26  0.008163 -0.000519\n",
       "2019-12-27  0.001826  0.002665\n",
       "2019-12-30 -0.008656 -0.018353\n",
       "2019-12-31  0.000698  0.009219\n",
       "\n",
       "[1258 rows x 2 columns]"
      ]
     },
     "execution_count": 11,
     "metadata": {},
     "output_type": "execute_result"
    }
   ],
   "source": [
    "securityReturns = np.log(securityData / securityData.shift(1))\n",
    "securityReturns"
   ]
  },
  {
   "cell_type": "markdown",
   "metadata": {},
   "source": [
    "### MSFT "
   ]
  },
  {
   "cell_type": "code",
   "execution_count": 30,
   "metadata": {},
   "outputs": [],
   "source": [
    "msftMeanDaily = securityReturns['MSFT'].mean() # Daily average return\n",
    "msftMeanAnnually = securityReturns['MSFT'].mean() * 250 # yearly average return\n",
    "msftStandardDeviationDaily = securityReturns['MSFT'].std() # standard deviation for day\n",
    "msftStandardDeviationAnnually = securityReturns['MSFT'].std() * 250 ** 0.5 # standard variation is square root of the variance"
   ]
  },
  {
   "cell_type": "markdown",
   "metadata": {},
   "source": [
    "### IBM"
   ]
  },
  {
   "cell_type": "code",
   "execution_count": 31,
   "metadata": {},
   "outputs": [],
   "source": [
    "ibmMeanDaily = securityReturns['IBM'].mean() # Daily average return\n",
    "ibmMeanAnnually = securityReturns['IBM'].mean() * 250 # yearly average return\n",
    "ibmStandardDeviationDaily = securityReturns['IBM'].std() # standard deviation for day\n",
    "ibmStandardDeviationAnnually = securityReturns['IBM'].std() * 250 ** 0.5 # standard variation is square root of the variance"
   ]
  },
  {
   "cell_type": "markdown",
   "metadata": {},
   "source": [
    "### Compare MSFT vs IBM"
   ]
  },
  {
   "cell_type": "code",
   "execution_count": 45,
   "metadata": {},
   "outputs": [
    {
     "name": "stdout",
     "output_type": "stream",
     "text": [
      "MEANS --\n",
      "MSFT: 0.263230 - IBM: 0.005184\n",
      "STANDARD DEVIATIONS --\n",
      "MSFT: 0.231661 - IBM: 0.205401\n",
      "----------------------\n",
      "MEANS --\n",
      "MSFT    0.263230\n",
      "IBM     0.005184\n",
      "dtype: float64\n",
      "STANDARD DEVIATIONS --\n",
      "MSFT    0.231661\n",
      "IBM     0.205401\n",
      "dtype: float64\n"
     ]
    }
   ],
   "source": [
    "print('MEANS --')\n",
    "print('MSFT: %f - IBM: %f' %(msftMeanAnnually, ibmMeanAnnually))\n",
    "print('STANDARD DEVIATIONS --')\n",
    "print('MSFT: %f - IBM: %f' %(msftStandardDeviationAnnually, ibmStandardDeviationAnnually))\n",
    "\n",
    "# OR WE CAN CREATE AN ARRAY\n",
    "print('----------------------')\n",
    "means = securityReturns[['MSFT', 'IBM']].mean() * 250\n",
    "stdDeviations = securityReturns[['MSFT', 'IBM']].std() * 250 ** 0.5\n",
    "print('MEANS --')\n",
    "print(means)\n",
    "print('STANDARD DEVIATIONS --')\n",
    "print(stdDeviations)\n"
   ]
  },
  {
   "cell_type": "code",
   "execution_count": null,
   "metadata": {},
   "outputs": [],
   "source": [
    "# OR "
   ]
  }
 ],
 "metadata": {
  "kernelspec": {
   "display_name": "Python 3",
   "language": "python",
   "name": "python3"
  },
  "language_info": {
   "codemirror_mode": {
    "name": "ipython",
    "version": 3
   },
   "file_extension": ".py",
   "mimetype": "text/x-python",
   "name": "python",
   "nbconvert_exporter": "python",
   "pygments_lexer": "ipython3",
   "version": "3.7.6"
  }
 },
 "nbformat": 4,
 "nbformat_minor": 4
}

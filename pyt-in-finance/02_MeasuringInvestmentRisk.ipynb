{
 "cells": [
  {
   "cell_type": "markdown",
   "metadata": {},
   "source": [
    "# 02 - Measuring Investment Risk \n",
    "\n",
    "<b>Quantifying risk :</b>\n",
    "These can help:\n",
    "\n",
    "  \n",
    "- Standard deviation\n",
    "  - Standard deviation is a measure of how much an investment's returns can vary from its average return. It is a measure of volatility and in turn, risk (ref: https://investinganswers.com/dictionary/s/standard-deviation) \n",
    "  - S = [1/n *  (ri - rave)2]½\n",
    "    - where:\n",
    "    - ri = actual rate of return\n",
    "    - rave = average rate of return\n",
    "    - n = number of time periods\n",
    "\n",
    "- Variance : \n",
    "  - High variance in a stock is associated with higher risk, along with a higher return. Low variance is associated with lower risk and a lower return. High variance stocks tend to be good for aggressive investors who are less risk-averse, while low variance stocks tend to be good for conservative investors who have less risk tolerance (ref: https://www.investopedia.com/ask/answers/041415/variance-good-or-bad-stock-investors.asp) \n",
    "  - Variance = $S^2$"
   ]
  },
  {
   "cell_type": "markdown",
   "metadata": {},
   "source": [
    "## Calculating Risk of a Security"
   ]
  },
  {
   "cell_type": "code",
   "execution_count": 9,
   "metadata": {},
   "outputs": [],
   "source": [
    "import numpy as np\n",
    "import pandas as pd\n",
    "from pandas_datareader import data as wb\n",
    "import matplotlib.pyplot as plt\n",
    "\n",
    "startDate = '2015-01-01'\n",
    "endDate = '2019-12-31'\n",
    "\n",
    "tickers = ['MSFT', 'IBM']\n",
    "securityData = pd.DataFrame()\n",
    "\n",
    "for t in tickers:\n",
    "    securityData[t] = wb.DataReader(t, data_source='yahoo', start=startDate, end=endDate)['Adj Close']\n"
   ]
  },
  {
   "cell_type": "code",
   "execution_count": 4,
   "metadata": {},
   "outputs": [
    {
     "data": {
      "text/html": [
       "<div>\n",
       "<style scoped>\n",
       "    .dataframe tbody tr th:only-of-type {\n",
       "        vertical-align: middle;\n",
       "    }\n",
       "\n",
       "    .dataframe tbody tr th {\n",
       "        vertical-align: top;\n",
       "    }\n",
       "\n",
       "    .dataframe thead th {\n",
       "        text-align: right;\n",
       "    }\n",
       "</style>\n",
       "<table border=\"1\" class=\"dataframe\">\n",
       "  <thead>\n",
       "    <tr style=\"text-align: right;\">\n",
       "      <th></th>\n",
       "      <th>MSFT</th>\n",
       "      <th>IBM</th>\n",
       "    </tr>\n",
       "    <tr>\n",
       "      <th>Date</th>\n",
       "      <th></th>\n",
       "      <th></th>\n",
       "    </tr>\n",
       "  </thead>\n",
       "  <tbody>\n",
       "    <tr>\n",
       "      <th>2020-07-22</th>\n",
       "      <td>211.750000</td>\n",
       "      <td>128.669998</td>\n",
       "    </tr>\n",
       "    <tr>\n",
       "      <th>2020-07-23</th>\n",
       "      <td>202.539993</td>\n",
       "      <td>127.330002</td>\n",
       "    </tr>\n",
       "    <tr>\n",
       "      <th>2020-07-24</th>\n",
       "      <td>201.300003</td>\n",
       "      <td>125.790001</td>\n",
       "    </tr>\n",
       "    <tr>\n",
       "      <th>2020-07-27</th>\n",
       "      <td>203.850006</td>\n",
       "      <td>126.209999</td>\n",
       "    </tr>\n",
       "    <tr>\n",
       "      <th>2020-07-28</th>\n",
       "      <td>202.020004</td>\n",
       "      <td>124.470001</td>\n",
       "    </tr>\n",
       "  </tbody>\n",
       "</table>\n",
       "</div>"
      ],
      "text/plain": [
       "                  MSFT         IBM\n",
       "Date                              \n",
       "2020-07-22  211.750000  128.669998\n",
       "2020-07-23  202.539993  127.330002\n",
       "2020-07-24  201.300003  125.790001\n",
       "2020-07-27  203.850006  126.209999\n",
       "2020-07-28  202.020004  124.470001"
      ]
     },
     "execution_count": 4,
     "metadata": {},
     "output_type": "execute_result"
    }
   ],
   "source": [
    "securityData.tail()"
   ]
  },
  {
   "cell_type": "code",
   "execution_count": 11,
   "metadata": {},
   "outputs": [
    {
     "data": {
      "text/html": [
       "<div>\n",
       "<style scoped>\n",
       "    .dataframe tbody tr th:only-of-type {\n",
       "        vertical-align: middle;\n",
       "    }\n",
       "\n",
       "    .dataframe tbody tr th {\n",
       "        vertical-align: top;\n",
       "    }\n",
       "\n",
       "    .dataframe thead th {\n",
       "        text-align: right;\n",
       "    }\n",
       "</style>\n",
       "<table border=\"1\" class=\"dataframe\">\n",
       "  <thead>\n",
       "    <tr style=\"text-align: right;\">\n",
       "      <th></th>\n",
       "      <th>MSFT</th>\n",
       "      <th>IBM</th>\n",
       "    </tr>\n",
       "    <tr>\n",
       "      <th>Date</th>\n",
       "      <th></th>\n",
       "      <th></th>\n",
       "    </tr>\n",
       "  </thead>\n",
       "  <tbody>\n",
       "    <tr>\n",
       "      <th>2015-01-02</th>\n",
       "      <td>NaN</td>\n",
       "      <td>NaN</td>\n",
       "    </tr>\n",
       "    <tr>\n",
       "      <th>2015-01-05</th>\n",
       "      <td>-0.009238</td>\n",
       "      <td>-0.015860</td>\n",
       "    </tr>\n",
       "    <tr>\n",
       "      <th>2015-01-06</th>\n",
       "      <td>-0.014786</td>\n",
       "      <td>-0.021802</td>\n",
       "    </tr>\n",
       "    <tr>\n",
       "      <th>2015-01-07</th>\n",
       "      <td>0.012625</td>\n",
       "      <td>-0.006557</td>\n",
       "    </tr>\n",
       "    <tr>\n",
       "      <th>2015-01-08</th>\n",
       "      <td>0.028994</td>\n",
       "      <td>0.021502</td>\n",
       "    </tr>\n",
       "    <tr>\n",
       "      <th>...</th>\n",
       "      <td>...</td>\n",
       "      <td>...</td>\n",
       "    </tr>\n",
       "    <tr>\n",
       "      <th>2019-12-24</th>\n",
       "      <td>-0.000191</td>\n",
       "      <td>-0.004214</td>\n",
       "    </tr>\n",
       "    <tr>\n",
       "      <th>2019-12-26</th>\n",
       "      <td>0.008163</td>\n",
       "      <td>-0.000519</td>\n",
       "    </tr>\n",
       "    <tr>\n",
       "      <th>2019-12-27</th>\n",
       "      <td>0.001826</td>\n",
       "      <td>0.002665</td>\n",
       "    </tr>\n",
       "    <tr>\n",
       "      <th>2019-12-30</th>\n",
       "      <td>-0.008656</td>\n",
       "      <td>-0.018353</td>\n",
       "    </tr>\n",
       "    <tr>\n",
       "      <th>2019-12-31</th>\n",
       "      <td>0.000698</td>\n",
       "      <td>0.009219</td>\n",
       "    </tr>\n",
       "  </tbody>\n",
       "</table>\n",
       "<p>1258 rows × 2 columns</p>\n",
       "</div>"
      ],
      "text/plain": [
       "                MSFT       IBM\n",
       "Date                          \n",
       "2015-01-02       NaN       NaN\n",
       "2015-01-05 -0.009238 -0.015860\n",
       "2015-01-06 -0.014786 -0.021802\n",
       "2015-01-07  0.012625 -0.006557\n",
       "2015-01-08  0.028994  0.021502\n",
       "...              ...       ...\n",
       "2019-12-24 -0.000191 -0.004214\n",
       "2019-12-26  0.008163 -0.000519\n",
       "2019-12-27  0.001826  0.002665\n",
       "2019-12-30 -0.008656 -0.018353\n",
       "2019-12-31  0.000698  0.009219\n",
       "\n",
       "[1258 rows x 2 columns]"
      ]
     },
     "execution_count": 11,
     "metadata": {},
     "output_type": "execute_result"
    }
   ],
   "source": [
    "securityReturns = np.log(securityData / securityData.shift(1))\n",
    "securityReturns"
   ]
  },
  {
   "cell_type": "markdown",
   "metadata": {},
   "source": [
    "### MSFT "
   ]
  },
  {
   "cell_type": "code",
   "execution_count": 30,
   "metadata": {},
   "outputs": [],
   "source": [
    "msftMeanDaily = securityReturns['MSFT'].mean() # Daily average return\n",
    "msftMeanAnnually = securityReturns['MSFT'].mean() * 250 # yearly average return\n",
    "msftStandardDeviationDaily = securityReturns['MSFT'].std() # standard deviation for day\n",
    "msftStandardDeviationAnnually = securityReturns['MSFT'].std() * 250 ** 0.5 # standard variation is square root of the variance"
   ]
  },
  {
   "cell_type": "markdown",
   "metadata": {},
   "source": [
    "### IBM"
   ]
  },
  {
   "cell_type": "code",
   "execution_count": 31,
   "metadata": {},
   "outputs": [],
   "source": [
    "ibmMeanDaily = securityReturns['IBM'].mean() # Daily average return\n",
    "ibmMeanAnnually = securityReturns['IBM'].mean() * 250 # yearly average return\n",
    "ibmStandardDeviationDaily = securityReturns['IBM'].std() # standard deviation for day\n",
    "ibmStandardDeviationAnnually = securityReturns['IBM'].std() * 250 ** 0.5 # standard variation is square root of the variance"
   ]
  },
  {
   "cell_type": "markdown",
   "metadata": {},
   "source": [
    "### Compare MSFT vs IBM"
   ]
  },
  {
   "cell_type": "code",
   "execution_count": 46,
   "metadata": {},
   "outputs": [
    {
     "name": "stdout",
     "output_type": "stream",
     "text": [
      "MEANS --\n",
      "MSFT: 0.263230 - IBM: 0.005184\n",
      "STANDARD DEVIATIONS --\n",
      "MSFT: 0.231661 - IBM: 0.205401\n",
      "OR --------------------\n",
      "MEANS --\n",
      "MSFT    0.263230\n",
      "IBM     0.005184\n",
      "dtype: float64\n",
      "STANDARD DEVIATIONS --\n",
      "MSFT    0.231661\n",
      "IBM     0.205401\n",
      "dtype: float64\n"
     ]
    }
   ],
   "source": [
    "print('MEANS --')\n",
    "print('MSFT: %f - IBM: %f' %(msftMeanAnnually, ibmMeanAnnually))\n",
    "print('STANDARD DEVIATIONS --')\n",
    "print('MSFT: %f - IBM: %f' %(msftStandardDeviationAnnually, ibmStandardDeviationAnnually))\n",
    "\n",
    "# OR WE CAN CREATE AN ARRAY\n",
    "print('OR --------------------')\n",
    "means = securityReturns[['MSFT', 'IBM']].mean() * 250\n",
    "stdDeviations = securityReturns[['MSFT', 'IBM']].std() * 250 ** 0.5\n",
    "print('MEANS --')\n",
    "print(means)\n",
    "print('STANDARD DEVIATIONS --')\n",
    "print(stdDeviations)\n"
   ]
  },
  {
   "cell_type": "markdown",
   "metadata": {},
   "source": [
    "## Covariance and Correlation\n",
    "\n",
    "<b>Covariance(returns)</b> : Measures the directional relationship between the returns on two assets. (Ref: https://www.investopedia.com/terms/c/covariance.asp). Reflects the dependence between prices at the different times and focuses on the returns of the portfolio\n",
    "\n",
    "<b>Correlation(prices)</b> : Focuses on stocl price levels \n",
    "\n",
    "Pandas numpy provides variance, covariance and correlation calculations\n",
    "```python\n",
    "var = pandas.DataFrame.var()\n",
    "covarMatrix = pandas.DataFrame.cov() # cov creates a matrix for us\n",
    "corMatrix = pandas.DataFrame.corr()\n",
    "```\n"
   ]
  },
  {
   "cell_type": "code",
   "execution_count": 55,
   "metadata": {},
   "outputs": [
    {
     "name": "stdout",
     "output_type": "stream",
     "text": [
      "MSFT : 0.053667\n",
      "IBM  : 0.042189\n"
     ]
    }
   ],
   "source": [
    "msftVarAnnually = securityReturns['MSFT'].var() * 250\n",
    "ibmVarAnnually = securityReturns['IBM'].var() * 250\n",
    "\n",
    "print('MSFT : %f' % msftVarAnnually)\n",
    "print('IBM  : %f' % ibmVarAnnually)"
   ]
  },
  {
   "cell_type": "code",
   "execution_count": 60,
   "metadata": {},
   "outputs": [
    {
     "data": {
      "text/html": [
       "<div>\n",
       "<style scoped>\n",
       "    .dataframe tbody tr th:only-of-type {\n",
       "        vertical-align: middle;\n",
       "    }\n",
       "\n",
       "    .dataframe tbody tr th {\n",
       "        vertical-align: top;\n",
       "    }\n",
       "\n",
       "    .dataframe thead th {\n",
       "        text-align: right;\n",
       "    }\n",
       "</style>\n",
       "<table border=\"1\" class=\"dataframe\">\n",
       "  <thead>\n",
       "    <tr style=\"text-align: right;\">\n",
       "      <th></th>\n",
       "      <th>MSFT</th>\n",
       "      <th>IBM</th>\n",
       "    </tr>\n",
       "  </thead>\n",
       "  <tbody>\n",
       "    <tr>\n",
       "      <th>MSFT</th>\n",
       "      <td>0.053667</td>\n",
       "      <td>0.023148</td>\n",
       "    </tr>\n",
       "    <tr>\n",
       "      <th>IBM</th>\n",
       "      <td>0.023148</td>\n",
       "      <td>0.042189</td>\n",
       "    </tr>\n",
       "  </tbody>\n",
       "</table>\n",
       "</div>"
      ],
      "text/plain": [
       "          MSFT       IBM\n",
       "MSFT  0.053667  0.023148\n",
       "IBM   0.023148  0.042189"
      ]
     },
     "execution_count": 60,
     "metadata": {},
     "output_type": "execute_result"
    }
   ],
   "source": [
    "covMatrixAnnually = securityReturns.cov() * 250\n",
    "covMatrixAnnually"
   ]
  },
  {
   "cell_type": "code",
   "execution_count": 64,
   "metadata": {},
   "outputs": [
    {
     "data": {
      "text/html": [
       "<div>\n",
       "<style scoped>\n",
       "    .dataframe tbody tr th:only-of-type {\n",
       "        vertical-align: middle;\n",
       "    }\n",
       "\n",
       "    .dataframe tbody tr th {\n",
       "        vertical-align: top;\n",
       "    }\n",
       "\n",
       "    .dataframe thead th {\n",
       "        text-align: right;\n",
       "    }\n",
       "</style>\n",
       "<table border=\"1\" class=\"dataframe\">\n",
       "  <thead>\n",
       "    <tr style=\"text-align: right;\">\n",
       "      <th></th>\n",
       "      <th>MSFT</th>\n",
       "      <th>IBM</th>\n",
       "    </tr>\n",
       "  </thead>\n",
       "  <tbody>\n",
       "    <tr>\n",
       "      <th>MSFT</th>\n",
       "      <td>1.000000</td>\n",
       "      <td>0.486479</td>\n",
       "    </tr>\n",
       "    <tr>\n",
       "      <th>IBM</th>\n",
       "      <td>0.486479</td>\n",
       "      <td>1.000000</td>\n",
       "    </tr>\n",
       "  </tbody>\n",
       "</table>\n",
       "</div>"
      ],
      "text/plain": [
       "          MSFT       IBM\n",
       "MSFT  1.000000  0.486479\n",
       "IBM   0.486479  1.000000"
      ]
     },
     "execution_count": 64,
     "metadata": {},
     "output_type": "execute_result"
    }
   ],
   "source": [
    "corrMatrix = securityReturns.corr() # we don't need to multiple with 250 (yearly)\n",
    "corrMatrix"
   ]
  },
  {
   "cell_type": "markdown",
   "metadata": {},
   "source": [
    "### Portfolio Variance (for 2 stocks)\n",
    "\n",
    "$$\n",
    "(w1Q1 + w2Q2)^2 = w1^2Q1^2 + 2w1q1w2q2 + w2^2Q2^2\n",
    "$$\n",
    "\n",
    "where\n",
    "- w1, w2 : weights\n"
   ]
  },
  {
   "cell_type": "markdown",
   "metadata": {},
   "source": [
    "## Calculating Portfolio Risk\n"
   ]
  },
  {
   "cell_type": "code",
   "execution_count": 82,
   "metadata": {},
   "outputs": [
    {
     "name": "stdout",
     "output_type": "stream",
     "text": [
      "Portfolio Variance : 0.035538\n",
      "Portfolio Volatility : 18.851599% \n"
     ]
    }
   ],
   "source": [
    "# assume we have equally weighted portfolio (IBM 50%, MSFT 50%)\n",
    "weights = np.array([0.5, 0.5])\n",
    "\n",
    "# portfolio variance\n",
    "portVar = np.dot(weights.T, np.dot(securityReturns.cov() * 250, weights))\n",
    "print('Portfolio Variance : %f' % portVar)\n",
    "\n",
    "# Portfolio Volatility\n",
    "portVol = (np.dot(weights.T, np.dot(securityReturns.cov() * 250, weights))) ** 0.5\n",
    "print('Portfolio Volatility : %f%% ' % (portVol * 100))\n"
   ]
  },
  {
   "cell_type": "markdown",
   "metadata": {},
   "source": [
    "## Investment Risk\n",
    "\n",
    "- 1.Un-diversifiable risk (Systematic risk)\n",
    "  - Depends on the variance of each individual security.\n",
    "  - Day to day changes in stock prices\n",
    "  - It impacts the all companies through\n",
    "    - Economy (recession, etc.)\n",
    "    - Low consumer spending\n",
    "    - War / Political instability, etc..\n",
    "    - Natural disasters\n",
    "  \n",
    "- 2.Diversifiable risk (idiosyncratic risk, unsystematic risk)\n",
    "  - Can be eleminated if we invest in non-correlated assets\n",
    "    - Automotive + Construction + Energy + Technology\n",
    "    - Studies show, investing in 20-25 stocks which are not correlated almost removes the Diversifiable risk \n",
    "  \n"
   ]
  },
  {
   "cell_type": "markdown",
   "metadata": {},
   "source": [
    "### Calculating Diversiable and Non-Diversiable Risk of a Portfolio\n",
    "\n",
    "$$\n",
    "diversifiableRisk = portfolioVariance - weightedAnnualVariance\n",
    "$$"
   ]
  },
  {
   "cell_type": "code",
   "execution_count": 87,
   "metadata": {},
   "outputs": [
    {
     "name": "stdout",
     "output_type": "stream",
     "text": [
      "Weight1 0.500000  -  Weight2 0.500000\n"
     ]
    }
   ],
   "source": [
    "weights = np.array([0.5, 0.5])\n",
    "print('Weight1 %f  -  Weight2 %f' %(weights[0], weights[1]))"
   ]
  },
  {
   "cell_type": "code",
   "execution_count": 98,
   "metadata": {},
   "outputs": [
    {
     "name": "stdout",
     "output_type": "stream",
     "text": [
      "Diversiable Risk 1.200000%\n"
     ]
    }
   ],
   "source": [
    "# Diversiable risk -------------------------\n",
    "\n",
    "# WRONG CALCULATION --------\n",
    "# calculate each stocks annual variance\n",
    "#   We need to convert to float, as dRisk will have vector values \n",
    "msftVarAnnual = float(securityReturns[['MSFT']].var() * 250)  # double brackets adds a dimention to the array\n",
    "ibmVarAnnual = float(securityReturns[['IBM']].var() * 250)  # double brackets adds a dimention to the array\n",
    "\n",
    "dRisk = portVar - (weights[0]**2 * msftVarAnnual) - (weights[1]**2 * ibmVarAnnual)\n",
    "print('Diversiable Risk %f%%' %(round(dRisk, 3)*100))\n",
    "\n"
   ]
  },
  {
   "cell_type": "code",
   "execution_count": 104,
   "metadata": {},
   "outputs": [
    {
     "data": {
      "text/plain": [
       "True"
      ]
     },
     "execution_count": 104,
     "metadata": {},
     "output_type": "execute_result"
    }
   ],
   "source": [
    "# Non-Diversiable Risk:\n",
    "ndRisk1 = portVar - dRisk \n",
    "ndRisk2 = (weights[0]**2 * msftVarAnnual) + (weights[1]**2 * ibmVarAnnual)\n",
    "\n",
    "round(ndRisk1,5) == round(ndRisk2,5)\n"
   ]
  },
  {
   "cell_type": "code",
   "execution_count": null,
   "metadata": {},
   "outputs": [],
   "source": []
  }
 ],
 "metadata": {
  "kernelspec": {
   "display_name": "Python 3",
   "language": "python",
   "name": "python3"
  },
  "language_info": {
   "codemirror_mode": {
    "name": "ipython",
    "version": 3
   },
   "file_extension": ".py",
   "mimetype": "text/x-python",
   "name": "python",
   "nbconvert_exporter": "python",
   "pygments_lexer": "ipython3",
   "version": "3.7.6"
  }
 },
 "nbformat": 4,
 "nbformat_minor": 4
}

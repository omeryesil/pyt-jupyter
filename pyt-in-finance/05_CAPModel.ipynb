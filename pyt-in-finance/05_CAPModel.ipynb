{
 "cells": [
  {
   "cell_type": "markdown",
   "metadata": {},
   "source": [
    "# Capital Asset Pricing (CAP) Model \n",
    "\n",
    "Investors are:\n",
    "- Risk-averse\n",
    "- Prefer higher returns\n",
    "- Willing to buy the optimal portfolio\n",
    "\n",
    "The market portfolio:\n",
    "- A combination of all the possible investments in the world \n",
    "- Superior risk-return\n",
    "- Optimal in terms of risk because it is a diversified portfolio\n",
    "  - Only risk for the Market Portfolio is the Systematic Risk\n",
    "\n",
    "With CAPM:\n",
    "- Investors Invest in \n",
    "  - Risk-free and \n",
    "  - Market portfolio\n",
    "- Dependending on the risk preferences, investors chose to buy more risk-free or more market portfolio  \n",
    "\n",
    "More info: \n",
    "https://www.investopedia.com/terms/c/capm.asp\n",
    "\n"
   ]
  },
  {
   "cell_type": "markdown",
   "metadata": {},
   "source": [
    "## Beta \n",
    "\n",
    "- Measures the market risk that can't be avoided with diversification\n",
    "\n",
    "- One of the main pillars of the CAPM\n",
    "- Quantifies the relationship beteen a security and the overall market portfolio\n",
    "  - Remember! Market Portfolio contains all the securities in the market \n",
    "- In a Regression (Systematic risk)\n",
    "  - market will be minus, therefore having diversified portfolio won't save the return\n",
    "\n",
    "- Formula:\n",
    "  $$\n",
    "  \\beta = \\frac{cov(r_x,r_m)}{\\sigma m^2}\n",
    "  $$\n",
    "\n",
    "- Beta values \n",
    "  - beta = 0 : No relationship to the market\n",
    "  - beta < 1 : Defensive. If market performs poor, these stocks will lose less\n",
    "  - beta > 1 : Aggresive. Stock performs better then market if the market is good, performes worse if the market does bad. \n",
    "  \n",
    "- Examples:\n",
    "  - Wallmart\n",
    "    - Its beta = 0.09 \n",
    "    - Almost no relation to the market as everyone needs food even in recession\n",
    "  - Ford \n",
    "    - Its beta = 1.1\n",
    "    - Aggresive, if market is good higher return, if bad higher risk"
   ]
  },
  {
   "cell_type": "code",
   "execution_count": 6,
   "metadata": {},
   "outputs": [],
   "source": [
    "# CALCULATE PG'S BETA -------------------------\n",
    "\n",
    "import numpy as np\n",
    "import pandas as pd\n",
    "from pandas_datareader import data as wb\n",
    "\n",
    "tickers = ['PG', '^GSPC']\n",
    "data = pd.DataFrame()\n",
    "\n",
    "for t in tickers:\n",
    "    data[t] = wb.DataReader(t, data_source='yahoo', start='2015-01-01', end='2019-12-31')['Adj Close']\n"
   ]
  },
  {
   "cell_type": "code",
   "execution_count": 10,
   "metadata": {},
   "outputs": [
    {
     "name": "stdout",
     "output_type": "stream",
     "text": [
      "Covariance\n",
      "             PG     ^GSPC\n",
      "PG     0.024205  0.010177\n",
      "^GSPC  0.010177  0.017980\n",
      "Cov with Market\n",
      "0.010177049743542227\n",
      "Market Variance\n",
      "0.017979592731526266\n"
     ]
    }
   ],
   "source": [
    "secReturns = np.log( data / data.shift(1))\n",
    "\n",
    "cov = secReturns.cov() * 250\n",
    "print('Covariance')\n",
    "print(cov)\n",
    "\n",
    "covWithMarket = cov.iloc[0,1]\n",
    "print('Cov with Market')\n",
    "print(covWithMarket)\n",
    "\n",
    "marketVariance = secReturns['^GSPC'].var() * 250 \n",
    "print('Market Variance')\n",
    "print(marketVariance)"
   ]
  },
  {
   "cell_type": "markdown",
   "metadata": {},
   "source": [
    "### Beta Calculation"
   ]
  },
  {
   "cell_type": "code",
   "execution_count": 22,
   "metadata": {},
   "outputs": [
    {
     "name": "stdout",
     "output_type": "stream",
     "text": [
      "PG's beta: 0.566033 \n",
      "Defensive\n"
     ]
    }
   ],
   "source": [
    "pgBeta = covWithMarket / marketVariance\n",
    "print(\"PG's beta: %f \" % pgBeta)\n",
    "\n",
    "if pgBeta == 0:\n",
    "    print('Not related')\n",
    "elif float(pgBeta) < 1 :\n",
    "    print('Defensive')\n",
    "else :\n",
    "    print('Aggresive')\n"
   ]
  },
  {
   "cell_type": "markdown",
   "metadata": {},
   "source": [
    "## Capital Asset Pricing Model Calculation\n",
    "\n",
    "$$\n",
    "r_i = r_f + \\beta im(r_m - r_f)\n",
    "$$\n",
    "\n",
    "- rf : Risk free asset\n",
    "- $\\beta im$ : beta between the stock and the market \n",
    "- rm : market return\n",
    "\n",
    "### Sample for CAPM\n",
    "\n",
    "- rf : risk free\n",
    "  - The closest one is 10 year US gov bond yield: 2.5%\n",
    "- $\\beta im$ \n",
    "  - Approximate the market portfolio with the S&P500 : 0.62 \n",
    "- rm : Equity risk premium, historically it has been between 4.5% and 5.5% \n",
    "\n",
    "\n",
    "```python\n",
    "\n",
    "# PG's expected return \n",
    "ri = 0.025 + 0.062 * 0.05 = 0.056 = 5.6%\n",
    "```\n"
   ]
  },
  {
   "cell_type": "markdown",
   "metadata": {},
   "source": [
    "### Calculate the expected return of PG (CAPM) "
   ]
  },
  {
   "cell_type": "code",
   "execution_count": 26,
   "metadata": {},
   "outputs": [
    {
     "data": {
      "text/plain": [
       "0.05330166927445834"
      ]
     },
     "execution_count": 26,
     "metadata": {},
     "output_type": "execute_result"
    }
   ],
   "source": [
    "# you can get rf from bloomberg's web site (0.025 for 10 y US bond)\n",
    "# research shows risk premium is 0.05\n",
    "pgExpectedReturn = 0.025 + pgBeta * 0.05   \n",
    "pgExpectedReturn"
   ]
  },
  {
   "cell_type": "markdown",
   "metadata": {},
   "source": [
    "## Sharpe Ratio\n",
    "\n",
    "- Helps to compare \n",
    "  - StockA vs stockB\n",
    "  - PortfolioA vs PortfolioB\n",
    "\n",
    "- Formula:\n",
    "$$\n",
    "sharpeRatio = \\frac{r_i-r_f}{\\sigma _i}\n",
    "$$\n",
    "\n",
    "  - rf : risk free rate\n",
    "  - ri : rate of return of the stock (i)\n",
    "  - qi : standard deviation of the stock \"i\"\n",
    "  \n",
    "- Check more : [Capital Market Line](https://www.investopedia.com/terms/c/cml.asp)\n"
   ]
  },
  {
   "cell_type": "markdown",
   "metadata": {},
   "source": [
    "### Calculate Sharpe Ratio of P&G"
   ]
  },
  {
   "cell_type": "code",
   "execution_count": 29,
   "metadata": {},
   "outputs": [
    {
     "data": {
      "text/plain": [
       "0.1819107631110148"
      ]
     },
     "execution_count": 29,
     "metadata": {},
     "output_type": "execute_result"
    }
   ],
   "source": [
    "sharpe = (pgExpectedReturn - 0.025) / (secReturns['PG'].std() * 250 ** 0.5)\n",
    "sharpe"
   ]
  },
  {
   "cell_type": "markdown",
   "metadata": {},
   "source": [
    "## Alpha \n",
    "\n",
    "- A measure of how good or bad an investment manager is doing\n",
    "- Shows how much return we get without bearing extra risk\n",
    "- A Standard CAPM setting assumes an alpha equal to 0 \n",
    "- We can <b>only compare</b> the alpha of investments with a <b>similar risk profile</b>\n",
    "\n",
    "- Passive Trading:\n",
    "  - Investing in a market index (S&P500) and waiting patiently\n",
    "- Active Trading:\n",
    "  - Adjusting investment portfolios on a frequent basis   "
   ]
  },
  {
   "cell_type": "code",
   "execution_count": null,
   "metadata": {},
   "outputs": [],
   "source": []
  }
 ],
 "metadata": {
  "kernelspec": {
   "display_name": "Python 3",
   "language": "python",
   "name": "python3"
  },
  "language_info": {
   "codemirror_mode": {
    "name": "ipython",
    "version": 3
   },
   "file_extension": ".py",
   "mimetype": "text/x-python",
   "name": "python",
   "nbconvert_exporter": "python",
   "pygments_lexer": "ipython3",
   "version": "3.7.6"
  }
 },
 "nbformat": 4,
 "nbformat_minor": 4
}

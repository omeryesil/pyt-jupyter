{
 "cells": [
  {
   "cell_type": "markdown",
   "metadata": {},
   "source": [
    "# 01 - Calculating and comparing rates of return\n",
    "\n",
    "Reference : https://www.udemy.com/course/python-for-finance-investment-fundamentals-data-analytics/learn/lecture/6779998#overview (!!!highly recommended!!!)\n",
    "\n",
    "\n",
    "Learning Goal;\n",
    "1. Calculating the return of a single security\n",
    "2. Calculating the return of a portfolio of securities ( stock indicies, etc..)\n",
    "3. Risk, Standard deviation and Variance\n",
    "4. Relationship between securities (Correlation and Covariance, and calculations )\n",
    "5. Regressions; how to run regressions, $\\alpha$, $\\beta$, $R^2$\n",
    "6. Markowitz's Portfolio Theory: \n",
    "  a. CAPM (Capital Asset Pricing Model ) : the most widely used asset pricing model\n",
    "  b. Calculating Cost of Capital\n",
    "  c. Sharp Ratio\n",
    "7. Monte Carlo Simulation\n",
    "  a. Derivatives Pricing\n",
    "  b. Stock Pricing\n",
    "  c. Corporate Finance\n",
    "  \n",
    "\n",
    "## Rate of Return\n",
    "\n",
    "We can use 2 different methods to calculate rate of return:\n",
    "\n",
    "- Simple rate of return : Preferred for multiple assets over the same timeframe\n",
    "- Logarithmic rate of return : Preferred for a single asset over time\n",
    "\n",
    "1. Simple rate of return\n",
    "\n",
    "```python\n",
    "simpleRateOfReturn = (endpingPrice - beginningPrice) / beginningPrice\n",
    "```\n",
    "\n",
    "2. Logarithmic rate of return\n",
    "\n",
    "```python\n",
    "logRateOfReturn = log(endingPrice/begininngPrice) = log endpingPrice - log beginingPrice\n",
    "```\n",
    "\n",
    "### Formula for Yearly Return\n",
    "\n",
    "```python\n",
    "yearlyReturn = [(dailyReturn+1)^365] * 100 -1  # This formula converts daily, monthly, and quarterly returns to yearly\n",
    "```\n",
    "\n",
    "\n",
    "\n",
    "\n",
    "\n",
    "\n",
    "\n",
    "\n",
    "\n",
    "\n",
    "\n",
    "\n"
   ]
  },
  {
   "cell_type": "code",
   "execution_count": 6,
   "metadata": {},
   "outputs": [],
   "source": [
    "import numpy as np\n",
    "from pandas_datareader import data as web\n",
    "import matplotlib.pyplot as plt"
   ]
  },
  {
   "cell_type": "code",
   "execution_count": 8,
   "metadata": {},
   "outputs": [],
   "source": [
    "MSFT = web.DataReader('MSFT', data_source='yahoo',start='2020-01-01')"
   ]
  },
  {
   "cell_type": "code",
   "execution_count": 10,
   "metadata": {},
   "outputs": [
    {
     "data": {
      "text/html": [
       "<div>\n",
       "<style scoped>\n",
       "    .dataframe tbody tr th:only-of-type {\n",
       "        vertical-align: middle;\n",
       "    }\n",
       "\n",
       "    .dataframe tbody tr th {\n",
       "        vertical-align: top;\n",
       "    }\n",
       "\n",
       "    .dataframe thead th {\n",
       "        text-align: right;\n",
       "    }\n",
       "</style>\n",
       "<table border=\"1\" class=\"dataframe\">\n",
       "  <thead>\n",
       "    <tr style=\"text-align: right;\">\n",
       "      <th></th>\n",
       "      <th>High</th>\n",
       "      <th>Low</th>\n",
       "      <th>Open</th>\n",
       "      <th>Close</th>\n",
       "      <th>Volume</th>\n",
       "      <th>Adj Close</th>\n",
       "    </tr>\n",
       "    <tr>\n",
       "      <th>Date</th>\n",
       "      <th></th>\n",
       "      <th></th>\n",
       "      <th></th>\n",
       "      <th></th>\n",
       "      <th></th>\n",
       "      <th></th>\n",
       "    </tr>\n",
       "  </thead>\n",
       "  <tbody>\n",
       "    <tr>\n",
       "      <th>2020-07-15</th>\n",
       "      <td>211.330002</td>\n",
       "      <td>205.029999</td>\n",
       "      <td>209.559998</td>\n",
       "      <td>208.039993</td>\n",
       "      <td>32179400.0</td>\n",
       "      <td>208.039993</td>\n",
       "    </tr>\n",
       "    <tr>\n",
       "      <th>2020-07-16</th>\n",
       "      <td>205.699997</td>\n",
       "      <td>202.309998</td>\n",
       "      <td>205.399994</td>\n",
       "      <td>203.919998</td>\n",
       "      <td>29940700.0</td>\n",
       "      <td>203.919998</td>\n",
       "    </tr>\n",
       "    <tr>\n",
       "      <th>2020-07-17</th>\n",
       "      <td>205.039993</td>\n",
       "      <td>201.389999</td>\n",
       "      <td>204.470001</td>\n",
       "      <td>202.880005</td>\n",
       "      <td>31635300.0</td>\n",
       "      <td>202.880005</td>\n",
       "    </tr>\n",
       "    <tr>\n",
       "      <th>2020-07-20</th>\n",
       "      <td>212.300003</td>\n",
       "      <td>203.009995</td>\n",
       "      <td>205.000000</td>\n",
       "      <td>211.600006</td>\n",
       "      <td>36801800.0</td>\n",
       "      <td>211.600006</td>\n",
       "    </tr>\n",
       "    <tr>\n",
       "      <th>2020-07-21</th>\n",
       "      <td>213.940002</td>\n",
       "      <td>208.029999</td>\n",
       "      <td>213.660004</td>\n",
       "      <td>208.750000</td>\n",
       "      <td>36663976.0</td>\n",
       "      <td>208.750000</td>\n",
       "    </tr>\n",
       "  </tbody>\n",
       "</table>\n",
       "</div>"
      ],
      "text/plain": [
       "                  High         Low        Open       Close      Volume  \\\n",
       "Date                                                                     \n",
       "2020-07-15  211.330002  205.029999  209.559998  208.039993  32179400.0   \n",
       "2020-07-16  205.699997  202.309998  205.399994  203.919998  29940700.0   \n",
       "2020-07-17  205.039993  201.389999  204.470001  202.880005  31635300.0   \n",
       "2020-07-20  212.300003  203.009995  205.000000  211.600006  36801800.0   \n",
       "2020-07-21  213.940002  208.029999  213.660004  208.750000  36663976.0   \n",
       "\n",
       "             Adj Close  \n",
       "Date                    \n",
       "2020-07-15  208.039993  \n",
       "2020-07-16  203.919998  \n",
       "2020-07-17  202.880005  \n",
       "2020-07-20  211.600006  \n",
       "2020-07-21  208.750000  "
      ]
     },
     "execution_count": 10,
     "metadata": {},
     "output_type": "execute_result"
    }
   ],
   "source": [
    "MSFT.tail()"
   ]
  },
  {
   "cell_type": "markdown",
   "metadata": {},
   "source": [
    "## Simple Rate of Return\n",
    "\n",
    "$$\n",
    "\\frac{P1 - P0}{P0} = \\frac{P1}{P0} - 1\n",
    "$$"
   ]
  },
  {
   "cell_type": "code",
   "execution_count": 11,
   "metadata": {},
   "outputs": [],
   "source": [
    "# Daily return\n",
    "MSFT['simple_return'] = (MSFT['Adj Close'] / MSFT['Adj Close'].shift(1)) - 1"
   ]
  },
  {
   "cell_type": "code",
   "execution_count": 14,
   "metadata": {},
   "outputs": [
    {
     "name": "stdout",
     "output_type": "stream",
     "text": [
      "Date\n",
      "2020-01-02         NaN\n",
      "2020-01-03   -0.012452\n",
      "2020-01-06    0.002585\n",
      "2020-01-07   -0.009118\n",
      "2020-01-08    0.015928\n",
      "                ...   \n",
      "2020-07-15   -0.001488\n",
      "2020-07-16   -0.019804\n",
      "2020-07-17   -0.005100\n",
      "2020-07-20    0.042981\n",
      "2020-07-21   -0.013469\n",
      "Name: simple_return, Length: 139, dtype: float64\n"
     ]
    }
   ],
   "source": [
    "print (MSFT['simple_return'])"
   ]
  },
  {
   "cell_type": "code",
   "execution_count": 24,
   "metadata": {},
   "outputs": [
    {
     "data": {
      "image/png": "[encoded data removed]",
      "text/plain": [
       "<Figure size 720x360 with 1 Axes>"
      ]
     },
     "metadata": {
      "needs_background": "light"
     },
     "output_type": "display_data"
    }
   ],
   "source": [
    "MSFT['simple_return'].plot(figsize=(10,5)) # creates a graph with 8,5\n",
    "plt.show()"
   ]
  },
  {
   "cell_type": "code",
   "execution_count": 25,
   "metadata": {},
   "outputs": [
    {
     "data": {
      "text/plain": [
       "0.0024879666294645095"
      ]
     },
     "execution_count": 25,
     "metadata": {},
     "output_type": "execute_result"
    }
   ],
   "source": [
    "# Calculate average daily return\n",
    "avg_returns_daily = MSFT['simple_return'].mean()  # pandas.DataFrame.mean()\n",
    "avg_returns_daily"
   ]
  },
  {
   "cell_type": "code",
   "execution_count": 26,
   "metadata": {},
   "outputs": [
    {
     "data": {
      "text/plain": [
       "0.6219916573661274"
      ]
     },
     "execution_count": 26,
     "metadata": {},
     "output_type": "execute_result"
    }
   ],
   "source": [
    "# Calculate average return per year\n",
    "avg_returns_anually = MSFT['simple_return'].mean()*250  # 250 Number of trading days in a year  \n",
    "avg_returns_a"
   ]
  },
  {
   "cell_type": "code",
   "execution_count": null,
   "metadata": {},
   "outputs": [],
   "source": [
    "print str(round(avg_))"
   ]
  }
 ],
 "metadata": {
  "kernelspec": {
   "display_name": "Python 3",
   "language": "python",
   "name": "python3"
  },
  "language_info": {
   "codemirror_mode": {
    "name": "ipython",
    "version": 3
   },
   "file_extension": ".py",
   "mimetype": "text/x-python",
   "name": "python",
   "nbconvert_exporter": "python",
   "pygments_lexer": "ipython3",
   "version": "3.7.6"
  }
 },
 "nbformat": 4,
 "nbformat_minor": 4
}

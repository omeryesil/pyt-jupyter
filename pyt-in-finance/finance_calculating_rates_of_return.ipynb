{
 "cells": [
  {
   "cell_type": "markdown",
   "metadata": {},
   "source": [
    "# Calculating and comparing rates of return\n",
    "\n",
    "Reference : https://www.udemy.com/course/python-for-finance-investment-fundamentals-data-analytics/learn/lecture/6779998#overview (!!!highly recommended!!!)\n",
    "\n",
    "\n",
    "Learning Goal\n",
    "1. Calculating the return of a single security\n",
    "2. Calculating the return of a portfolio of securities ( stock indicies, etc..)\n",
    "3. Risk, Standard deviation and Variance\n",
    "4. Relationship between securities (Correlation and Covariance, and calculations )\n",
    "5. Regressions; how to run regressions, $\\alpha$, $\\beta$, $R^2$\n",
    "6. Markowitz's Portfolio Theory: \n",
    "  a. CAPM (Capital Asset Pricing Model ) : the most widely used asset pricing model\n",
    "  b. Calculating Cost of Capital\n",
    "  c. Sharp Ratio\n",
    "7. Monte Carlo Simulation\n",
    "  a. Derivatives Pricing\n",
    "  b. Stock Pricing\n",
    "  c. Corporate Finance\n",
    "  \n",
    "\n",
    "## Rate of Return\n",
    "\n",
    "### Simple rate of return\n",
    "\n",
    "```python\n",
    "simpleRateOfReturn = (endpingPrice - beginningPrice) / beginningPrice\n",
    "```\n",
    "\n",
    "### Logarithmic rate of return\n",
    "\n",
    "```python\n",
    "logRateOfReturn = log(endingPrice/begininngPrice) = log endpingPrice\n",
    "```\n",
    "\n",
    "\n",
    "\n",
    "\n",
    "\n",
    "\n",
    "\n"
   ]
  },
  {
   "cell_type": "markdown",
   "metadata": {},
   "source": []
  }
 ],
 "metadata": {
  "kernelspec": {
   "display_name": "Python 3",
   "language": "python",
   "name": "python3"
  },
  "language_info": {
   "codemirror_mode": {
    "name": "ipython",
    "version": 3
   },
   "file_extension": ".py",
   "mimetype": "text/x-python",
   "name": "python",
   "nbconvert_exporter": "python",
   "pygments_lexer": "ipython3",
   "version": "3.7.6"
  }
 },
 "nbformat": 4,
 "nbformat_minor": 4
}
